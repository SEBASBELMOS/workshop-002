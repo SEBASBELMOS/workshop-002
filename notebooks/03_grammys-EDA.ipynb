{
 "cells": [
  {
   "cell_type": "markdown",
   "metadata": {},
   "source": [
    "## **WORKSHOP 002 - NOTEBOOK #3: Grammys - Exploratory Data Analysis (EDA)**\n",
    "Developed by [Sebastian Belalcazar](https://github.com/SEBASBELMOS)"
   ]
  },
  {
   "cell_type": "markdown",
   "metadata": {},
   "source": [
    "### **Setting Environment**"
   ]
  },
  {
   "cell_type": "code",
   "execution_count": 1,
   "metadata": {},
   "outputs": [
    {
     "name": "stdout",
     "output_type": "stream",
     "text": [
      "d:\\U\\FIFTH SEMESTER\\ETL\\workshop-002\\notebooks\n",
      "d:\\U\\FIFTH SEMESTER\\ETL\\workshop-002\n"
     ]
    }
   ],
   "source": [
    "import os \n",
    "print(os.getcwd())\n",
    "\n",
    "try:\n",
    "    os.chdir(\"../../workshop-002\")\n",
    "\n",
    "except FileNotFoundError:\n",
    "    print(\"\"\"\n",
    "        FileNotFoundError - The directory may not exist or you might not be in the specified path.\n",
    "        If this has already worked, do not run this block again, as the current directory is already set to project_etl.\n",
    "        \"\"\")\n",
    "    \n",
    "print(os.getcwd())"
   ]
  },
  {
   "cell_type": "code",
   "execution_count": 2,
   "metadata": {},
   "outputs": [],
   "source": [
    "import pandas as pd\n",
    "import numpy as np\n",
    "import matplotlib.pyplot as plt\n",
    "import seaborn as sns\n",
    "from matplotlib.colors import LinearSegmentedColormap\n",
    "from src.database.db_operations import create_gcp_engine, dispose_engine\n",
    "import re\n",
    "from collections import Counter\n",
    "plt.style.use(\"ggplot\")"
   ]
  },
  {
   "cell_type": "markdown",
   "metadata": {},
   "source": [
    "### **Read Data**"
   ]
  },
  {
   "cell_type": "code",
   "execution_count": 3,
   "metadata": {},
   "outputs": [
    {
     "name": "stderr",
     "output_type": "stream",
     "text": [
      "INFO:root:Database engine created successfully.\n"
     ]
    }
   ],
   "source": [
    "engine = create_gcp_engine()"
   ]
  },
  {
   "cell_type": "code",
   "execution_count": 4,
   "metadata": {},
   "outputs": [
    {
     "name": "stderr",
     "output_type": "stream",
     "text": [
      "INFO:root:Database engine disposed successfully.\n"
     ]
    }
   ],
   "source": [
    "grammys_data = pd.read_sql_table(\"grammy_awards\", engine, schema=\"raw\")\n",
    "grammys_data.head()\n",
    "\n",
    "dispose_engine(engine)"
   ]
  },
  {
   "cell_type": "markdown",
   "metadata": {},
   "source": [
    "### **Data Preprocessing and Cleansing**"
   ]
  },
  {
   "cell_type": "markdown",
   "metadata": {},
   "source": [
    "The Grammy dataset contains a total of _4.810_ entries with _10_ columns.\n",
    "\n",
    "**String columns (object type):**\n",
    "\n",
    "- `title`: Title of the Grammy nomination.\n",
    "- `published_at`: Date the nomination was published.\n",
    "- `updated_at`: Date the nomination was last updated.\n",
    "- `category`: The Grammy category.\n",
    "- `nominee`: The person or group nominated.\n",
    "- `artist`: The artist involved (if applicable).\n",
    "- `workers`: People involved in the production.\n",
    "- `img`: URL for an image related to the nomination.\n",
    "\n",
    "\n",
    "**Numerical columns (int64 type):**\n",
    "\n",
    "- `year`: The year of the Grammy nomination.\n",
    "\n",
    "**Boolean column (bool type):**\n",
    "\n",
    "- `winner`: Indicates if the nominee won the Grammy."
   ]
  },
  {
   "cell_type": "code",
   "execution_count": 5,
   "metadata": {},
   "outputs": [],
   "source": [
    "df = grammys_data.copy()"
   ]
  },
  {
   "cell_type": "code",
   "execution_count": 6,
   "metadata": {},
   "outputs": [
    {
     "name": "stdout",
     "output_type": "stream",
     "text": [
      "<class 'pandas.core.frame.DataFrame'>\n",
      "RangeIndex: 4810 entries, 0 to 4809\n",
      "Data columns (total 10 columns):\n",
      " #   Column        Non-Null Count  Dtype \n",
      "---  ------        --------------  ----- \n",
      " 0   year          4810 non-null   int64 \n",
      " 1   title         4810 non-null   object\n",
      " 2   published_at  4810 non-null   object\n",
      " 3   updated_at    4810 non-null   object\n",
      " 4   category      4810 non-null   object\n",
      " 5   nominee       4804 non-null   object\n",
      " 6   artist        2970 non-null   object\n",
      " 7   workers       2620 non-null   object\n",
      " 8   img           3443 non-null   object\n",
      " 9   winner        4810 non-null   bool  \n",
      "dtypes: bool(1), int64(1), object(8)\n",
      "memory usage: 343.0+ KB\n"
     ]
    }
   ],
   "source": [
    "df.info()"
   ]
  },
  {
   "cell_type": "markdown",
   "metadata": {},
   "source": [
    "#### **Null Values Summarise**"
   ]
  },
  {
   "cell_type": "code",
   "execution_count": 7,
   "metadata": {},
   "outputs": [
    {
     "data": {
      "text/plain": [
       "year              62\n",
       "title             62\n",
       "published_at       4\n",
       "updated_at        10\n",
       "category         638\n",
       "nominee         4131\n",
       "artist          1658\n",
       "workers         2366\n",
       "img             1463\n",
       "winner             1\n",
       "dtype: int64"
      ]
     },
     "execution_count": 7,
     "metadata": {},
     "output_type": "execute_result"
    }
   ],
   "source": [
    "df.nunique()"
   ]
  },
  {
   "cell_type": "code",
   "execution_count": 8,
   "metadata": {},
   "outputs": [
    {
     "data": {
      "text/plain": [
       "year               0\n",
       "title              0\n",
       "published_at       0\n",
       "updated_at         0\n",
       "category           0\n",
       "nominee            6\n",
       "artist          1840\n",
       "workers         2190\n",
       "img             1367\n",
       "winner             0\n",
       "dtype: int64"
      ]
     },
     "execution_count": 8,
     "metadata": {},
     "output_type": "execute_result"
    }
   ],
   "source": [
    "df.isnull().sum()"
   ]
  },
  {
   "cell_type": "markdown",
   "metadata": {},
   "source": [
    "#### **Drop Columns**"
   ]
  },
  {
   "cell_type": "markdown",
   "metadata": {},
   "source": [
    "##### **`img` Column (Image)**"
   ]
  },
  {
   "cell_type": "code",
   "execution_count": 9,
   "metadata": {},
   "outputs": [
    {
     "data": {
      "text/plain": [
       "'https://www.grammy.com/sites/com/files/styles/artist_circle/public/muzooka/Billie%2BEilish/Billie%2520Eilish_1_1_1594138954.jpg?itok=3-71Dfxh'"
      ]
     },
     "execution_count": 9,
     "metadata": {},
     "output_type": "execute_result"
    }
   ],
   "source": [
    "df.loc[0, \"img\"]"
   ]
  },
  {
   "cell_type": "markdown",
   "metadata": {},
   "source": [
    "##### **`winner` Column**"
   ]
  },
  {
   "cell_type": "code",
   "execution_count": 10,
   "metadata": {},
   "outputs": [
    {
     "data": {
      "text/plain": [
       "winner\n",
       "True    4810\n",
       "Name: count, dtype: int64"
      ]
     },
     "execution_count": 10,
     "metadata": {},
     "output_type": "execute_result"
    }
   ],
   "source": [
    "df[\"winner\"].value_counts()"
   ]
  },
  {
   "cell_type": "code",
   "execution_count": 11,
   "metadata": {},
   "outputs": [],
   "source": [
    "df.rename(columns={\"winner\": \"is_winner\"}, inplace=True)"
   ]
  },
  {
   "cell_type": "markdown",
   "metadata": {},
   "source": [
    "##### **`updated_at` Column**"
   ]
  },
  {
   "cell_type": "code",
   "execution_count": 12,
   "metadata": {},
   "outputs": [
    {
     "data": {
      "text/plain": [
       "updated_at\n",
       "2019-09-10T01:08:19-07:00    778\n",
       "2019-09-10T01:06:11-07:00    754\n",
       "2019-09-10T01:07:37-07:00    713\n",
       "2019-09-10T01:06:59-07:00    681\n",
       "2019-09-10T01:11:09-07:00    658\n",
       "2019-09-10T01:09:02-07:00    554\n",
       "2020-05-19T05:10:28-07:00    433\n",
       "2017-11-28T00:03:45-08:00    108\n",
       "2020-09-01T12:16:40-07:00     83\n",
       "2019-09-10T01:11:48-07:00     48\n",
       "Name: count, dtype: int64"
      ]
     },
     "execution_count": 12,
     "metadata": {},
     "output_type": "execute_result"
    }
   ],
   "source": [
    "df[\"updated_at\"].value_counts()"
   ]
  },
  {
   "cell_type": "markdown",
   "metadata": {},
   "source": [
    "##### **`published_at` Column**"
   ]
  },
  {
   "cell_type": "code",
   "execution_count": 13,
   "metadata": {},
   "outputs": [
    {
     "data": {
      "text/plain": [
       "published_at\n",
       "2017-11-28T00:03:45-08:00    4205\n",
       "2020-05-19T05:10:28-07:00     433\n",
       "2018-12-06T23:48:49-08:00      86\n",
       "2018-05-22T03:08:24-07:00      86\n",
       "Name: count, dtype: int64"
      ]
     },
     "execution_count": 13,
     "metadata": {},
     "output_type": "execute_result"
    }
   ],
   "source": [
    "df['published_at'].value_counts()"
   ]
  },
  {
   "cell_type": "markdown",
   "metadata": {},
   "source": [
    "##### **Drop unnecessary columns**"
   ]
  },
  {
   "cell_type": "code",
   "execution_count": 14,
   "metadata": {},
   "outputs": [],
   "source": [
    "df = df.drop(columns=[\"img\", \"updated_at\", \"published_at\"])"
   ]
  },
  {
   "cell_type": "code",
   "execution_count": 15,
   "metadata": {},
   "outputs": [
    {
     "data": {
      "text/html": [
       "<div>\n",
       "<style scoped>\n",
       "    .dataframe tbody tr th:only-of-type {\n",
       "        vertical-align: middle;\n",
       "    }\n",
       "\n",
       "    .dataframe tbody tr th {\n",
       "        vertical-align: top;\n",
       "    }\n",
       "\n",
       "    .dataframe thead th {\n",
       "        text-align: right;\n",
       "    }\n",
       "</style>\n",
       "<table border=\"1\" class=\"dataframe\">\n",
       "  <thead>\n",
       "    <tr style=\"text-align: right;\">\n",
       "      <th></th>\n",
       "      <th>year</th>\n",
       "      <th>title</th>\n",
       "      <th>category</th>\n",
       "      <th>nominee</th>\n",
       "      <th>artist</th>\n",
       "      <th>workers</th>\n",
       "      <th>is_winner</th>\n",
       "    </tr>\n",
       "  </thead>\n",
       "  <tbody>\n",
       "    <tr>\n",
       "      <th>0</th>\n",
       "      <td>2019</td>\n",
       "      <td>62nd Annual GRAMMY Awards  (2019)</td>\n",
       "      <td>Record Of The Year</td>\n",
       "      <td>Bad Guy</td>\n",
       "      <td>Billie Eilish</td>\n",
       "      <td>Finneas O'Connell, producer; Rob Kinelski &amp; Fi...</td>\n",
       "      <td>True</td>\n",
       "    </tr>\n",
       "    <tr>\n",
       "      <th>1</th>\n",
       "      <td>2019</td>\n",
       "      <td>62nd Annual GRAMMY Awards  (2019)</td>\n",
       "      <td>Record Of The Year</td>\n",
       "      <td>Hey, Ma</td>\n",
       "      <td>Bon Iver</td>\n",
       "      <td>BJ Burton, Brad Cook, Chris Messina &amp; Justin V...</td>\n",
       "      <td>True</td>\n",
       "    </tr>\n",
       "    <tr>\n",
       "      <th>2</th>\n",
       "      <td>2019</td>\n",
       "      <td>62nd Annual GRAMMY Awards  (2019)</td>\n",
       "      <td>Record Of The Year</td>\n",
       "      <td>7 rings</td>\n",
       "      <td>Ariana Grande</td>\n",
       "      <td>Charles Anderson, Tommy Brown, Michael Foster ...</td>\n",
       "      <td>True</td>\n",
       "    </tr>\n",
       "    <tr>\n",
       "      <th>3</th>\n",
       "      <td>2019</td>\n",
       "      <td>62nd Annual GRAMMY Awards  (2019)</td>\n",
       "      <td>Record Of The Year</td>\n",
       "      <td>Hard Place</td>\n",
       "      <td>H.E.R.</td>\n",
       "      <td>Rodney “Darkchild” Jerkins, producer; Joseph H...</td>\n",
       "      <td>True</td>\n",
       "    </tr>\n",
       "    <tr>\n",
       "      <th>4</th>\n",
       "      <td>2019</td>\n",
       "      <td>62nd Annual GRAMMY Awards  (2019)</td>\n",
       "      <td>Record Of The Year</td>\n",
       "      <td>Talk</td>\n",
       "      <td>Khalid</td>\n",
       "      <td>Disclosure &amp; Denis Kosiak, producers; Ingmar C...</td>\n",
       "      <td>True</td>\n",
       "    </tr>\n",
       "  </tbody>\n",
       "</table>\n",
       "</div>"
      ],
      "text/plain": [
       "   year                              title            category     nominee  \\\n",
       "0  2019  62nd Annual GRAMMY Awards  (2019)  Record Of The Year     Bad Guy   \n",
       "1  2019  62nd Annual GRAMMY Awards  (2019)  Record Of The Year     Hey, Ma   \n",
       "2  2019  62nd Annual GRAMMY Awards  (2019)  Record Of The Year     7 rings   \n",
       "3  2019  62nd Annual GRAMMY Awards  (2019)  Record Of The Year  Hard Place   \n",
       "4  2019  62nd Annual GRAMMY Awards  (2019)  Record Of The Year        Talk   \n",
       "\n",
       "          artist                                            workers  is_winner  \n",
       "0  Billie Eilish  Finneas O'Connell, producer; Rob Kinelski & Fi...       True  \n",
       "1       Bon Iver  BJ Burton, Brad Cook, Chris Messina & Justin V...       True  \n",
       "2  Ariana Grande  Charles Anderson, Tommy Brown, Michael Foster ...       True  \n",
       "3         H.E.R.  Rodney “Darkchild” Jerkins, producer; Joseph H...       True  \n",
       "4         Khalid  Disclosure & Denis Kosiak, producers; Ingmar C...       True  "
      ]
     },
     "execution_count": 15,
     "metadata": {},
     "output_type": "execute_result"
    }
   ],
   "source": [
    "df.head()"
   ]
  },
  {
   "cell_type": "markdown",
   "metadata": {},
   "source": [
    "#### **Null Values**"
   ]
  },
  {
   "cell_type": "markdown",
   "metadata": {},
   "source": [
    "##### **`nominee`**"
   ]
  },
  {
   "cell_type": "code",
   "execution_count": 16,
   "metadata": {},
   "outputs": [
    {
     "data": {
      "text/html": [
       "<div>\n",
       "<style scoped>\n",
       "    .dataframe tbody tr th:only-of-type {\n",
       "        vertical-align: middle;\n",
       "    }\n",
       "\n",
       "    .dataframe tbody tr th {\n",
       "        vertical-align: top;\n",
       "    }\n",
       "\n",
       "    .dataframe thead th {\n",
       "        text-align: right;\n",
       "    }\n",
       "</style>\n",
       "<table border=\"1\" class=\"dataframe\">\n",
       "  <thead>\n",
       "    <tr style=\"text-align: right;\">\n",
       "      <th></th>\n",
       "      <th>year</th>\n",
       "      <th>title</th>\n",
       "      <th>category</th>\n",
       "      <th>nominee</th>\n",
       "      <th>artist</th>\n",
       "      <th>workers</th>\n",
       "      <th>is_winner</th>\n",
       "    </tr>\n",
       "  </thead>\n",
       "  <tbody>\n",
       "    <tr>\n",
       "      <th>2274</th>\n",
       "      <td>2000</td>\n",
       "      <td>43rd Annual GRAMMY Awards  (2000)</td>\n",
       "      <td>Remixer of the Year, Non-Classical</td>\n",
       "      <td>None</td>\n",
       "      <td>None</td>\n",
       "      <td>None</td>\n",
       "      <td>True</td>\n",
       "    </tr>\n",
       "    <tr>\n",
       "      <th>2372</th>\n",
       "      <td>1999</td>\n",
       "      <td>42nd Annual GRAMMY Awards  (1999)</td>\n",
       "      <td>Remixer Of The Year, Non-Classical</td>\n",
       "      <td>None</td>\n",
       "      <td>None</td>\n",
       "      <td>None</td>\n",
       "      <td>True</td>\n",
       "    </tr>\n",
       "    <tr>\n",
       "      <th>2464</th>\n",
       "      <td>1998</td>\n",
       "      <td>41st Annual GRAMMY Awards  (1998)</td>\n",
       "      <td>Remixer Of The Year, Non-classical</td>\n",
       "      <td>None</td>\n",
       "      <td>None</td>\n",
       "      <td>None</td>\n",
       "      <td>True</td>\n",
       "    </tr>\n",
       "    <tr>\n",
       "      <th>2560</th>\n",
       "      <td>1997</td>\n",
       "      <td>40th Annual GRAMMY Awards  (1997)</td>\n",
       "      <td>Remixer Of The Year, Non-Classical</td>\n",
       "      <td>None</td>\n",
       "      <td>None</td>\n",
       "      <td>None</td>\n",
       "      <td>True</td>\n",
       "    </tr>\n",
       "    <tr>\n",
       "      <th>4527</th>\n",
       "      <td>1965</td>\n",
       "      <td>8th Annual GRAMMY Awards  (1965)</td>\n",
       "      <td>Best New Country &amp; Western Artist</td>\n",
       "      <td>None</td>\n",
       "      <td>None</td>\n",
       "      <td>None</td>\n",
       "      <td>True</td>\n",
       "    </tr>\n",
       "    <tr>\n",
       "      <th>4574</th>\n",
       "      <td>1964</td>\n",
       "      <td>7th Annual GRAMMY Awards  (1964)</td>\n",
       "      <td>Best New Country &amp; Western Artist Of 1964</td>\n",
       "      <td>None</td>\n",
       "      <td>None</td>\n",
       "      <td>None</td>\n",
       "      <td>True</td>\n",
       "    </tr>\n",
       "  </tbody>\n",
       "</table>\n",
       "</div>"
      ],
      "text/plain": [
       "      year                              title  \\\n",
       "2274  2000  43rd Annual GRAMMY Awards  (2000)   \n",
       "2372  1999  42nd Annual GRAMMY Awards  (1999)   \n",
       "2464  1998  41st Annual GRAMMY Awards  (1998)   \n",
       "2560  1997  40th Annual GRAMMY Awards  (1997)   \n",
       "4527  1965   8th Annual GRAMMY Awards  (1965)   \n",
       "4574  1964   7th Annual GRAMMY Awards  (1964)   \n",
       "\n",
       "                                       category nominee artist workers  \\\n",
       "2274         Remixer of the Year, Non-Classical    None   None    None   \n",
       "2372         Remixer Of The Year, Non-Classical    None   None    None   \n",
       "2464         Remixer Of The Year, Non-classical    None   None    None   \n",
       "2560         Remixer Of The Year, Non-Classical    None   None    None   \n",
       "4527          Best New Country & Western Artist    None   None    None   \n",
       "4574  Best New Country & Western Artist Of 1964    None   None    None   \n",
       "\n",
       "      is_winner  \n",
       "2274       True  \n",
       "2372       True  \n",
       "2464       True  \n",
       "2560       True  \n",
       "4527       True  \n",
       "4574       True  "
      ]
     },
     "execution_count": 16,
     "metadata": {},
     "output_type": "execute_result"
    }
   ],
   "source": [
    "df.loc[df[\"nominee\"].isna()]"
   ]
  },
  {
   "cell_type": "code",
   "execution_count": 17,
   "metadata": {},
   "outputs": [
    {
     "data": {
      "text/html": [
       "<div>\n",
       "<style scoped>\n",
       "    .dataframe tbody tr th:only-of-type {\n",
       "        vertical-align: middle;\n",
       "    }\n",
       "\n",
       "    .dataframe tbody tr th {\n",
       "        vertical-align: top;\n",
       "    }\n",
       "\n",
       "    .dataframe thead th {\n",
       "        text-align: right;\n",
       "    }\n",
       "</style>\n",
       "<table border=\"1\" class=\"dataframe\">\n",
       "  <thead>\n",
       "    <tr style=\"text-align: right;\">\n",
       "      <th></th>\n",
       "      <th>year</th>\n",
       "      <th>title</th>\n",
       "      <th>category</th>\n",
       "      <th>nominee</th>\n",
       "      <th>artist</th>\n",
       "      <th>workers</th>\n",
       "      <th>is_winner</th>\n",
       "    </tr>\n",
       "  </thead>\n",
       "  <tbody>\n",
       "  </tbody>\n",
       "</table>\n",
       "</div>"
      ],
      "text/plain": [
       "Empty DataFrame\n",
       "Columns: [year, title, category, nominee, artist, workers, is_winner]\n",
       "Index: []"
      ]
     },
     "execution_count": 17,
     "metadata": {},
     "output_type": "execute_result"
    }
   ],
   "source": [
    "df = df.dropna(subset=[\"nominee\"])\n",
    "df.loc[df[\"nominee\"].isna()]"
   ]
  },
  {
   "cell_type": "markdown",
   "metadata": {},
   "source": [
    "##### **`artist` and `workers`**"
   ]
  },
  {
   "cell_type": "code",
   "execution_count": 18,
   "metadata": {},
   "outputs": [
    {
     "data": {
      "text/html": [
       "<div>\n",
       "<style scoped>\n",
       "    .dataframe tbody tr th:only-of-type {\n",
       "        vertical-align: middle;\n",
       "    }\n",
       "\n",
       "    .dataframe tbody tr th {\n",
       "        vertical-align: top;\n",
       "    }\n",
       "\n",
       "    .dataframe thead th {\n",
       "        text-align: right;\n",
       "    }\n",
       "</style>\n",
       "<table border=\"1\" class=\"dataframe\">\n",
       "  <thead>\n",
       "    <tr style=\"text-align: right;\">\n",
       "      <th></th>\n",
       "      <th>year</th>\n",
       "      <th>title</th>\n",
       "      <th>category</th>\n",
       "      <th>nominee</th>\n",
       "      <th>artist</th>\n",
       "      <th>workers</th>\n",
       "      <th>is_winner</th>\n",
       "    </tr>\n",
       "  </thead>\n",
       "  <tbody>\n",
       "    <tr>\n",
       "      <th>24</th>\n",
       "      <td>2019</td>\n",
       "      <td>62nd Annual GRAMMY Awards  (2019)</td>\n",
       "      <td>Best New Artist</td>\n",
       "      <td>Billie Eilish</td>\n",
       "      <td>None</td>\n",
       "      <td>None</td>\n",
       "      <td>True</td>\n",
       "    </tr>\n",
       "    <tr>\n",
       "      <th>25</th>\n",
       "      <td>2019</td>\n",
       "      <td>62nd Annual GRAMMY Awards  (2019)</td>\n",
       "      <td>Best New Artist</td>\n",
       "      <td>Black Pumas</td>\n",
       "      <td>None</td>\n",
       "      <td>None</td>\n",
       "      <td>True</td>\n",
       "    </tr>\n",
       "    <tr>\n",
       "      <th>26</th>\n",
       "      <td>2019</td>\n",
       "      <td>62nd Annual GRAMMY Awards  (2019)</td>\n",
       "      <td>Best New Artist</td>\n",
       "      <td>Lil Nas X</td>\n",
       "      <td>None</td>\n",
       "      <td>None</td>\n",
       "      <td>True</td>\n",
       "    </tr>\n",
       "    <tr>\n",
       "      <th>27</th>\n",
       "      <td>2019</td>\n",
       "      <td>62nd Annual GRAMMY Awards  (2019)</td>\n",
       "      <td>Best New Artist</td>\n",
       "      <td>Lizzo</td>\n",
       "      <td>None</td>\n",
       "      <td>None</td>\n",
       "      <td>True</td>\n",
       "    </tr>\n",
       "    <tr>\n",
       "      <th>28</th>\n",
       "      <td>2019</td>\n",
       "      <td>62nd Annual GRAMMY Awards  (2019)</td>\n",
       "      <td>Best New Artist</td>\n",
       "      <td>Maggie Rogers</td>\n",
       "      <td>None</td>\n",
       "      <td>None</td>\n",
       "      <td>True</td>\n",
       "    </tr>\n",
       "  </tbody>\n",
       "</table>\n",
       "</div>"
      ],
      "text/plain": [
       "    year                              title         category        nominee  \\\n",
       "24  2019  62nd Annual GRAMMY Awards  (2019)  Best New Artist  Billie Eilish   \n",
       "25  2019  62nd Annual GRAMMY Awards  (2019)  Best New Artist    Black Pumas   \n",
       "26  2019  62nd Annual GRAMMY Awards  (2019)  Best New Artist      Lil Nas X   \n",
       "27  2019  62nd Annual GRAMMY Awards  (2019)  Best New Artist          Lizzo   \n",
       "28  2019  62nd Annual GRAMMY Awards  (2019)  Best New Artist  Maggie Rogers   \n",
       "\n",
       "   artist workers  is_winner  \n",
       "24   None    None       True  \n",
       "25   None    None       True  \n",
       "26   None    None       True  \n",
       "27   None    None       True  \n",
       "28   None    None       True  "
      ]
     },
     "execution_count": 18,
     "metadata": {},
     "output_type": "execute_result"
    }
   ],
   "source": [
    "na_values = df.loc[(df[\"artist\"].isna()) & (df[\"workers\"].isna())]\n",
    "na_values.head()"
   ]
  },
  {
   "cell_type": "markdown",
   "metadata": {},
   "source": [
    "##### **`category`**"
   ]
  },
  {
   "cell_type": "code",
   "execution_count": 19,
   "metadata": {},
   "outputs": [
    {
     "data": {
      "text/plain": [
       "category\n",
       "Best New Artist                                                                              50\n",
       "Producer Of The Year, Non-Classical                                                          22\n",
       "Producer Of The Year, Classical                                                              22\n",
       "Classical Producer Of The Year                                                               18\n",
       "Producer Of The Year (Non-Classical)                                                         10\n",
       "Producer Of The Year                                                                         10\n",
       "Best New Artist Of The Year                                                                   9\n",
       "Best Classical Vocal Soloist Performance                                                      7\n",
       "Best Classical Vocal Performance                                                              4\n",
       "Best Small Ensemble Performance (With Or Without Conductor)                                   4\n",
       "Best Classical Performance - Instrumental Soloist Or Soloists (With Or Without Orchestra)     4\n",
       "Best Producer Of The Year                                                                     3\n",
       "Most Promising New Classical Recording Artist                                                 3\n",
       "Best Classical Performance - Vocal Soloist (With Or Without Orchestra)                        2\n",
       "Producer Of The Year (Non Classical)                                                          1\n",
       "Best New Classical Artist                                                                     1\n",
       "Best Classical Vocal Soloist                                                                  1\n",
       "Producer Of The Year, (Non Classical)                                                         1\n",
       "Best Performance - Instrumental Soloist Or Soloists (With Or Without Orchestra)               1\n",
       "Best Classical Performance - Vocal Soloist                                                    1\n",
       "Best New Artist Of 1963                                                                       1\n",
       "Best New Artist Of 1964                                                                       1\n",
       "Best New Artist Of 1962                                                                       1\n",
       "Best New Artist Of 1961                                                                       1\n",
       "Best New Artist Of 1960                                                                       1\n",
       "Best New Artist Of 1959                                                                       1\n",
       "Name: count, dtype: int64"
      ]
     },
     "execution_count": 19,
     "metadata": {},
     "output_type": "execute_result"
    }
   ],
   "source": [
    "na_values['category'].value_counts()"
   ]
  },
  {
   "cell_type": "code",
   "execution_count": 20,
   "metadata": {},
   "outputs": [
    {
     "data": {
      "text/html": [
       "<div>\n",
       "<style scoped>\n",
       "    .dataframe tbody tr th:only-of-type {\n",
       "        vertical-align: middle;\n",
       "    }\n",
       "\n",
       "    .dataframe tbody tr th {\n",
       "        vertical-align: top;\n",
       "    }\n",
       "\n",
       "    .dataframe thead th {\n",
       "        text-align: right;\n",
       "    }\n",
       "</style>\n",
       "<table border=\"1\" class=\"dataframe\">\n",
       "  <thead>\n",
       "    <tr style=\"text-align: right;\">\n",
       "      <th></th>\n",
       "      <th>year</th>\n",
       "      <th>title</th>\n",
       "      <th>category</th>\n",
       "      <th>nominee</th>\n",
       "      <th>artist</th>\n",
       "      <th>workers</th>\n",
       "      <th>is_winner</th>\n",
       "    </tr>\n",
       "  </thead>\n",
       "  <tbody>\n",
       "    <tr>\n",
       "      <th>2382</th>\n",
       "      <td>1999</td>\n",
       "      <td>42nd Annual GRAMMY Awards  (1999)</td>\n",
       "      <td>Best Small Ensemble Performance (With Or Witho...</td>\n",
       "      <td>Colors Of Love - Works Of Thomas, Stucky, Tave...</td>\n",
       "      <td>None</td>\n",
       "      <td>None</td>\n",
       "      <td>True</td>\n",
       "    </tr>\n",
       "    <tr>\n",
       "      <th>2475</th>\n",
       "      <td>1998</td>\n",
       "      <td>41st Annual GRAMMY Awards  (1998)</td>\n",
       "      <td>Best Small Ensemble Performance (With Or Witho...</td>\n",
       "      <td>Reich: Music For 18 Musicians</td>\n",
       "      <td>None</td>\n",
       "      <td>None</td>\n",
       "      <td>True</td>\n",
       "    </tr>\n",
       "    <tr>\n",
       "      <th>2570</th>\n",
       "      <td>1997</td>\n",
       "      <td>40th Annual GRAMMY Awards  (1997)</td>\n",
       "      <td>Best Small Ensemble Performance (With Or Witho...</td>\n",
       "      <td>Hindemith: Kammermusik No. 1 With Finale 1921,...</td>\n",
       "      <td>None</td>\n",
       "      <td>None</td>\n",
       "      <td>True</td>\n",
       "    </tr>\n",
       "    <tr>\n",
       "      <th>2571</th>\n",
       "      <td>1997</td>\n",
       "      <td>40th Annual GRAMMY Awards  (1997)</td>\n",
       "      <td>Best Classical Vocal Performance</td>\n",
       "      <td>An Italian Songbook - Works Of Bellini, Donize...</td>\n",
       "      <td>None</td>\n",
       "      <td>None</td>\n",
       "      <td>True</td>\n",
       "    </tr>\n",
       "    <tr>\n",
       "      <th>2658</th>\n",
       "      <td>1996</td>\n",
       "      <td>39th Annual GRAMMY Awards  (1996)</td>\n",
       "      <td>Best Small Ensemble Performance (With Or Witho...</td>\n",
       "      <td>Boulez: ...Explosante-Fixe...</td>\n",
       "      <td>None</td>\n",
       "      <td>None</td>\n",
       "      <td>True</td>\n",
       "    </tr>\n",
       "  </tbody>\n",
       "</table>\n",
       "</div>"
      ],
      "text/plain": [
       "      year                              title  \\\n",
       "2382  1999  42nd Annual GRAMMY Awards  (1999)   \n",
       "2475  1998  41st Annual GRAMMY Awards  (1998)   \n",
       "2570  1997  40th Annual GRAMMY Awards  (1997)   \n",
       "2571  1997  40th Annual GRAMMY Awards  (1997)   \n",
       "2658  1996  39th Annual GRAMMY Awards  (1996)   \n",
       "\n",
       "                                               category  \\\n",
       "2382  Best Small Ensemble Performance (With Or Witho...   \n",
       "2475  Best Small Ensemble Performance (With Or Witho...   \n",
       "2570  Best Small Ensemble Performance (With Or Witho...   \n",
       "2571                   Best Classical Vocal Performance   \n",
       "2658  Best Small Ensemble Performance (With Or Witho...   \n",
       "\n",
       "                                                nominee artist workers  \\\n",
       "2382  Colors Of Love - Works Of Thomas, Stucky, Tave...   None    None   \n",
       "2475                      Reich: Music For 18 Musicians   None    None   \n",
       "2570  Hindemith: Kammermusik No. 1 With Finale 1921,...   None    None   \n",
       "2571  An Italian Songbook - Works Of Bellini, Donize...   None    None   \n",
       "2658                      Boulez: ...Explosante-Fixe...   None    None   \n",
       "\n",
       "      is_winner  \n",
       "2382       True  \n",
       "2475       True  \n",
       "2570       True  \n",
       "2571       True  \n",
       "2658       True  "
      ]
     },
     "execution_count": 20,
     "metadata": {},
     "output_type": "execute_result"
    }
   ],
   "source": [
    "categories = [\n",
    "    \"Best Classical Vocal Soloist Performance\",\n",
    "    \"Best Classical Vocal Performance\",\n",
    "    \"Best Small Ensemble Performance (With Or Without Conductor)\",\n",
    "    \"Best Classical Performance - Instrumental Soloist Or Soloists (With Or Without Orchestra)\",\n",
    "    \"Most Promising New Classical Recording Artist\",\n",
    "    \"Best Classical Performance - Vocal Soloist (With Or Without Orchestra)\",\n",
    "    \"Best New Classical Artist\",\n",
    "    \"Best Classical Vocal Soloist\",\n",
    "    \"Best Performance - Instrumental Soloist Or Soloists (With Or Without Orchestra)\",\n",
    "    \"Best Classical Performance - Vocal Soloist\"\n",
    "]\n",
    "\n",
    "na_filtered_values = na_values[na_values[\"category\"].isin(categories)]\n",
    "na_filtered_values.head()"
   ]
  },
  {
   "cell_type": "code",
   "execution_count": 21,
   "metadata": {},
   "outputs": [],
   "source": [
    "na_values = na_values.drop(na_filtered_values.index, axis=0)\n",
    "df = df.drop(na_filtered_values.index, axis=0)"
   ]
  },
  {
   "cell_type": "code",
   "execution_count": 22,
   "metadata": {},
   "outputs": [
    {
     "data": {
      "text/plain": [
       "(4776, 7)"
      ]
     },
     "execution_count": 22,
     "metadata": {},
     "output_type": "execute_result"
    }
   ],
   "source": [
    "df.shape"
   ]
  },
  {
   "cell_type": "markdown",
   "metadata": {},
   "source": [
    "##### **`nominee` & `artist`**"
   ]
  },
  {
   "cell_type": "code",
   "execution_count": 23,
   "metadata": {},
   "outputs": [],
   "source": [
    "df.loc[na_values.index, 'artist'] = na_values['nominee']"
   ]
  },
  {
   "cell_type": "code",
   "execution_count": 24,
   "metadata": {},
   "outputs": [
    {
     "data": {
      "text/html": [
       "<div>\n",
       "<style scoped>\n",
       "    .dataframe tbody tr th:only-of-type {\n",
       "        vertical-align: middle;\n",
       "    }\n",
       "\n",
       "    .dataframe tbody tr th {\n",
       "        vertical-align: top;\n",
       "    }\n",
       "\n",
       "    .dataframe thead th {\n",
       "        text-align: right;\n",
       "    }\n",
       "</style>\n",
       "<table border=\"1\" class=\"dataframe\">\n",
       "  <thead>\n",
       "    <tr style=\"text-align: right;\">\n",
       "      <th></th>\n",
       "      <th>year</th>\n",
       "      <th>title</th>\n",
       "      <th>category</th>\n",
       "      <th>nominee</th>\n",
       "      <th>artist</th>\n",
       "      <th>workers</th>\n",
       "      <th>is_winner</th>\n",
       "    </tr>\n",
       "  </thead>\n",
       "  <tbody>\n",
       "  </tbody>\n",
       "</table>\n",
       "</div>"
      ],
      "text/plain": [
       "Empty DataFrame\n",
       "Columns: [year, title, category, nominee, artist, workers, is_winner]\n",
       "Index: []"
      ]
     },
     "execution_count": 24,
     "metadata": {},
     "output_type": "execute_result"
    }
   ],
   "source": [
    "df.loc[df['artist'].isna() & df['workers'].isna()]"
   ]
  },
  {
   "cell_type": "code",
   "execution_count": 25,
   "metadata": {},
   "outputs": [
    {
     "data": {
      "text/plain": [
       "(1654, 7)"
      ]
     },
     "execution_count": 25,
     "metadata": {},
     "output_type": "execute_result"
    }
   ],
   "source": [
    "null_artist = df.loc[df['artist'].isna()]\n",
    "null_artist.shape"
   ]
  },
  {
   "cell_type": "code",
   "execution_count": 26,
   "metadata": {},
   "outputs": [
    {
     "data": {
      "text/html": [
       "<div>\n",
       "<style scoped>\n",
       "    .dataframe tbody tr th:only-of-type {\n",
       "        vertical-align: middle;\n",
       "    }\n",
       "\n",
       "    .dataframe tbody tr th {\n",
       "        vertical-align: top;\n",
       "    }\n",
       "\n",
       "    .dataframe thead th {\n",
       "        text-align: right;\n",
       "    }\n",
       "</style>\n",
       "<table border=\"1\" class=\"dataframe\">\n",
       "  <thead>\n",
       "    <tr style=\"text-align: right;\">\n",
       "      <th></th>\n",
       "      <th>year</th>\n",
       "      <th>title</th>\n",
       "      <th>category</th>\n",
       "      <th>nominee</th>\n",
       "      <th>artist</th>\n",
       "      <th>workers</th>\n",
       "      <th>is_winner</th>\n",
       "    </tr>\n",
       "  </thead>\n",
       "  <tbody>\n",
       "    <tr>\n",
       "      <th>16</th>\n",
       "      <td>2019</td>\n",
       "      <td>62nd Annual GRAMMY Awards  (2019)</td>\n",
       "      <td>Song Of The Year</td>\n",
       "      <td>Bad Guy</td>\n",
       "      <td>None</td>\n",
       "      <td>Billie Eilish O'Connell &amp; Finneas O'Connell, s...</td>\n",
       "      <td>True</td>\n",
       "    </tr>\n",
       "    <tr>\n",
       "      <th>17</th>\n",
       "      <td>2019</td>\n",
       "      <td>62nd Annual GRAMMY Awards  (2019)</td>\n",
       "      <td>Song Of The Year</td>\n",
       "      <td>Always Remember Us This Way</td>\n",
       "      <td>None</td>\n",
       "      <td>Natalie Hemby, Lady Gaga, Hillary Lindsey &amp; Lo...</td>\n",
       "      <td>True</td>\n",
       "    </tr>\n",
       "    <tr>\n",
       "      <th>18</th>\n",
       "      <td>2019</td>\n",
       "      <td>62nd Annual GRAMMY Awards  (2019)</td>\n",
       "      <td>Song Of The Year</td>\n",
       "      <td>Bring My Flowers Now</td>\n",
       "      <td>None</td>\n",
       "      <td>Brandi Carlile, Phil Hanseroth, Tim Hanseroth ...</td>\n",
       "      <td>True</td>\n",
       "    </tr>\n",
       "    <tr>\n",
       "      <th>19</th>\n",
       "      <td>2019</td>\n",
       "      <td>62nd Annual GRAMMY Awards  (2019)</td>\n",
       "      <td>Song Of The Year</td>\n",
       "      <td>Hard Place</td>\n",
       "      <td>None</td>\n",
       "      <td>Ruby Amanfu, Sam Ashworth, D. Arcelious Harris...</td>\n",
       "      <td>True</td>\n",
       "    </tr>\n",
       "    <tr>\n",
       "      <th>20</th>\n",
       "      <td>2019</td>\n",
       "      <td>62nd Annual GRAMMY Awards  (2019)</td>\n",
       "      <td>Song Of The Year</td>\n",
       "      <td>Lover</td>\n",
       "      <td>None</td>\n",
       "      <td>Taylor Swift, songwriter (Taylor Swift)</td>\n",
       "      <td>True</td>\n",
       "    </tr>\n",
       "  </tbody>\n",
       "</table>\n",
       "</div>"
      ],
      "text/plain": [
       "    year                              title          category  \\\n",
       "16  2019  62nd Annual GRAMMY Awards  (2019)  Song Of The Year   \n",
       "17  2019  62nd Annual GRAMMY Awards  (2019)  Song Of The Year   \n",
       "18  2019  62nd Annual GRAMMY Awards  (2019)  Song Of The Year   \n",
       "19  2019  62nd Annual GRAMMY Awards  (2019)  Song Of The Year   \n",
       "20  2019  62nd Annual GRAMMY Awards  (2019)  Song Of The Year   \n",
       "\n",
       "                        nominee artist  \\\n",
       "16                      Bad Guy   None   \n",
       "17  Always Remember Us This Way   None   \n",
       "18         Bring My Flowers Now   None   \n",
       "19                   Hard Place   None   \n",
       "20                        Lover   None   \n",
       "\n",
       "                                              workers  is_winner  \n",
       "16  Billie Eilish O'Connell & Finneas O'Connell, s...       True  \n",
       "17  Natalie Hemby, Lady Gaga, Hillary Lindsey & Lo...       True  \n",
       "18  Brandi Carlile, Phil Hanseroth, Tim Hanseroth ...       True  \n",
       "19  Ruby Amanfu, Sam Ashworth, D. Arcelious Harris...       True  \n",
       "20            Taylor Swift, songwriter (Taylor Swift)       True  "
      ]
     },
     "execution_count": 26,
     "metadata": {},
     "output_type": "execute_result"
    }
   ],
   "source": [
    "sample_null_artist = null_artist.head()\n",
    "sample_null_artist"
   ]
  },
  {
   "cell_type": "code",
   "execution_count": 27,
   "metadata": {},
   "outputs": [
    {
     "name": "stdout",
     "output_type": "stream",
     "text": [
      "Billie Eilish O'Connell & Finneas O'Connell, songwriters (Billie Eilish)\n",
      "Natalie Hemby, Lady Gaga, Hillary Lindsey & Lori McKenna, songwriters (Lady Gaga)\n",
      "Brandi Carlile, Phil Hanseroth, Tim Hanseroth & Tanya Tucker, songwriters (Tanya Tucker)\n",
      "Ruby Amanfu, Sam Ashworth, D. Arcelious Harris, H.E.R. & Rodney Jerkins, songwriters (H.E.R.)\n",
      "Taylor Swift, songwriter (Taylor Swift)\n"
     ]
    }
   ],
   "source": [
    "for x in sample_null_artist.index:\n",
    "    print(sample_null_artist.loc[x, 'workers'])\n"
   ]
  },
  {
   "cell_type": "code",
   "execution_count": 28,
   "metadata": {},
   "outputs": [],
   "source": [
    "def extract_artist(workers):\n",
    "    if pd.isna(workers):\n",
    "        return None\n",
    "    match = re.search(r'\\((.*?)\\)', workers)\n",
    "    return match.group(1) if match else None\n",
    "\n",
    "mask = df['artist'].isna() & df['workers'].notna()\n",
    "df.loc[mask, 'artist'] = df.loc[mask, 'workers'].apply(extract_artist)"
   ]
  },
  {
   "cell_type": "code",
   "execution_count": 29,
   "metadata": {},
   "outputs": [
    {
     "data": {
      "text/html": [
       "<div>\n",
       "<style scoped>\n",
       "    .dataframe tbody tr th:only-of-type {\n",
       "        vertical-align: middle;\n",
       "    }\n",
       "\n",
       "    .dataframe tbody tr th {\n",
       "        vertical-align: top;\n",
       "    }\n",
       "\n",
       "    .dataframe thead th {\n",
       "        text-align: right;\n",
       "    }\n",
       "</style>\n",
       "<table border=\"1\" class=\"dataframe\">\n",
       "  <thead>\n",
       "    <tr style=\"text-align: right;\">\n",
       "      <th></th>\n",
       "      <th>year</th>\n",
       "      <th>title</th>\n",
       "      <th>category</th>\n",
       "      <th>nominee</th>\n",
       "      <th>artist</th>\n",
       "      <th>workers</th>\n",
       "      <th>is_winner</th>\n",
       "    </tr>\n",
       "  </thead>\n",
       "  <tbody>\n",
       "    <tr>\n",
       "      <th>16</th>\n",
       "      <td>2019</td>\n",
       "      <td>62nd Annual GRAMMY Awards  (2019)</td>\n",
       "      <td>Song Of The Year</td>\n",
       "      <td>Bad Guy</td>\n",
       "      <td>Billie Eilish</td>\n",
       "      <td>Billie Eilish O'Connell &amp; Finneas O'Connell, s...</td>\n",
       "      <td>True</td>\n",
       "    </tr>\n",
       "    <tr>\n",
       "      <th>17</th>\n",
       "      <td>2019</td>\n",
       "      <td>62nd Annual GRAMMY Awards  (2019)</td>\n",
       "      <td>Song Of The Year</td>\n",
       "      <td>Always Remember Us This Way</td>\n",
       "      <td>Lady Gaga</td>\n",
       "      <td>Natalie Hemby, Lady Gaga, Hillary Lindsey &amp; Lo...</td>\n",
       "      <td>True</td>\n",
       "    </tr>\n",
       "    <tr>\n",
       "      <th>18</th>\n",
       "      <td>2019</td>\n",
       "      <td>62nd Annual GRAMMY Awards  (2019)</td>\n",
       "      <td>Song Of The Year</td>\n",
       "      <td>Bring My Flowers Now</td>\n",
       "      <td>Tanya Tucker</td>\n",
       "      <td>Brandi Carlile, Phil Hanseroth, Tim Hanseroth ...</td>\n",
       "      <td>True</td>\n",
       "    </tr>\n",
       "    <tr>\n",
       "      <th>19</th>\n",
       "      <td>2019</td>\n",
       "      <td>62nd Annual GRAMMY Awards  (2019)</td>\n",
       "      <td>Song Of The Year</td>\n",
       "      <td>Hard Place</td>\n",
       "      <td>H.E.R.</td>\n",
       "      <td>Ruby Amanfu, Sam Ashworth, D. Arcelious Harris...</td>\n",
       "      <td>True</td>\n",
       "    </tr>\n",
       "    <tr>\n",
       "      <th>20</th>\n",
       "      <td>2019</td>\n",
       "      <td>62nd Annual GRAMMY Awards  (2019)</td>\n",
       "      <td>Song Of The Year</td>\n",
       "      <td>Lover</td>\n",
       "      <td>Taylor Swift</td>\n",
       "      <td>Taylor Swift, songwriter (Taylor Swift)</td>\n",
       "      <td>True</td>\n",
       "    </tr>\n",
       "  </tbody>\n",
       "</table>\n",
       "</div>"
      ],
      "text/plain": [
       "    year                              title          category  \\\n",
       "16  2019  62nd Annual GRAMMY Awards  (2019)  Song Of The Year   \n",
       "17  2019  62nd Annual GRAMMY Awards  (2019)  Song Of The Year   \n",
       "18  2019  62nd Annual GRAMMY Awards  (2019)  Song Of The Year   \n",
       "19  2019  62nd Annual GRAMMY Awards  (2019)  Song Of The Year   \n",
       "20  2019  62nd Annual GRAMMY Awards  (2019)  Song Of The Year   \n",
       "\n",
       "                        nominee         artist  \\\n",
       "16                      Bad Guy  Billie Eilish   \n",
       "17  Always Remember Us This Way      Lady Gaga   \n",
       "18         Bring My Flowers Now   Tanya Tucker   \n",
       "19                   Hard Place         H.E.R.   \n",
       "20                        Lover   Taylor Swift   \n",
       "\n",
       "                                              workers  is_winner  \n",
       "16  Billie Eilish O'Connell & Finneas O'Connell, s...       True  \n",
       "17  Natalie Hemby, Lady Gaga, Hillary Lindsey & Lo...       True  \n",
       "18  Brandi Carlile, Phil Hanseroth, Tim Hanseroth ...       True  \n",
       "19  Ruby Amanfu, Sam Ashworth, D. Arcelious Harris...       True  \n",
       "20            Taylor Swift, songwriter (Taylor Swift)       True  "
      ]
     },
     "execution_count": 29,
     "metadata": {},
     "output_type": "execute_result"
    }
   ],
   "source": [
    "df.iloc[16:21]"
   ]
  },
  {
   "cell_type": "code",
   "execution_count": 30,
   "metadata": {},
   "outputs": [
    {
     "data": {
      "text/plain": [
       "year            0\n",
       "title           0\n",
       "category        0\n",
       "nominee         0\n",
       "artist        288\n",
       "workers      2156\n",
       "is_winner       0\n",
       "dtype: int64"
      ]
     },
     "execution_count": 30,
     "metadata": {},
     "output_type": "execute_result"
    }
   ],
   "source": [
    "df.isna().sum()"
   ]
  },
  {
   "cell_type": "markdown",
   "metadata": {},
   "source": [
    "We can noticed numerous `artists` appearing in the `workers` column. Upon further examination, we can observe several patterns in this column that can help us identify the artists:\n",
    "\n",
    "- The name appears on its own or is accompanied by a _Featuring_, which should also be included.\n",
    "\n",
    "- The name is separated by a semicolon (`;`) and either stands alone or is accompanied by a _Featuring_ that should also be included.\n",
    "\n",
    "- The artist is followed by a comma (`,`) and a role designation (`artist` or `artists`, `composer`, `conductor`, `choir director`, `chorus master`, `ensembles`, `soloist` or `soloists`, `conductor/soloist`)."
   ]
  },
  {
   "cell_type": "code",
   "execution_count": 31,
   "metadata": {},
   "outputs": [
    {
     "data": {
      "text/html": [
       "<div>\n",
       "<style scoped>\n",
       "    .dataframe tbody tr th:only-of-type {\n",
       "        vertical-align: middle;\n",
       "    }\n",
       "\n",
       "    .dataframe tbody tr th {\n",
       "        vertical-align: top;\n",
       "    }\n",
       "\n",
       "    .dataframe thead th {\n",
       "        text-align: right;\n",
       "    }\n",
       "</style>\n",
       "<table border=\"1\" class=\"dataframe\">\n",
       "  <thead>\n",
       "    <tr style=\"text-align: right;\">\n",
       "      <th></th>\n",
       "      <th>year</th>\n",
       "      <th>title</th>\n",
       "      <th>category</th>\n",
       "      <th>nominee</th>\n",
       "      <th>artist</th>\n",
       "      <th>workers</th>\n",
       "      <th>is_winner</th>\n",
       "    </tr>\n",
       "  </thead>\n",
       "  <tbody>\n",
       "    <tr>\n",
       "      <th>163</th>\n",
       "      <td>2015</td>\n",
       "      <td>58th Annual GRAMMY Awards  (2015)</td>\n",
       "      <td>Best Contemporary Classical Composition</td>\n",
       "      <td>Paulus: Prayers &amp; Remembrances</td>\n",
       "      <td>None</td>\n",
       "      <td>Stephen Paulus, composer</td>\n",
       "      <td>True</td>\n",
       "    </tr>\n",
       "    <tr>\n",
       "      <th>164</th>\n",
       "      <td>2019</td>\n",
       "      <td>62nd Annual GRAMMY Awards  (2019)</td>\n",
       "      <td>Best Improvised Jazz Solo</td>\n",
       "      <td>Sozinho</td>\n",
       "      <td>None</td>\n",
       "      <td>Randy Brecker, soloist</td>\n",
       "      <td>True</td>\n",
       "    </tr>\n",
       "    <tr>\n",
       "      <th>165</th>\n",
       "      <td>2019</td>\n",
       "      <td>62nd Annual GRAMMY Awards  (2019)</td>\n",
       "      <td>Best Improvised Jazz Solo</td>\n",
       "      <td>Elsewhere</td>\n",
       "      <td>None</td>\n",
       "      <td>Melissa Aldana, soloist</td>\n",
       "      <td>True</td>\n",
       "    </tr>\n",
       "    <tr>\n",
       "      <th>166</th>\n",
       "      <td>2019</td>\n",
       "      <td>62nd Annual GRAMMY Awards  (2019)</td>\n",
       "      <td>Best Improvised Jazz Solo</td>\n",
       "      <td>Tomorrow Is The Question</td>\n",
       "      <td>None</td>\n",
       "      <td>Julian Lage, soloist</td>\n",
       "      <td>True</td>\n",
       "    </tr>\n",
       "    <tr>\n",
       "      <th>167</th>\n",
       "      <td>2019</td>\n",
       "      <td>62nd Annual GRAMMY Awards  (2019)</td>\n",
       "      <td>Best Improvised Jazz Solo</td>\n",
       "      <td>The Windup</td>\n",
       "      <td>None</td>\n",
       "      <td>Branford Marsalis, soloist</td>\n",
       "      <td>True</td>\n",
       "    </tr>\n",
       "  </tbody>\n",
       "</table>\n",
       "</div>"
      ],
      "text/plain": [
       "     year                              title  \\\n",
       "163  2015  58th Annual GRAMMY Awards  (2015)   \n",
       "164  2019  62nd Annual GRAMMY Awards  (2019)   \n",
       "165  2019  62nd Annual GRAMMY Awards  (2019)   \n",
       "166  2019  62nd Annual GRAMMY Awards  (2019)   \n",
       "167  2019  62nd Annual GRAMMY Awards  (2019)   \n",
       "\n",
       "                                    category                         nominee  \\\n",
       "163  Best Contemporary Classical Composition  Paulus: Prayers & Remembrances   \n",
       "164                Best Improvised Jazz Solo                         Sozinho   \n",
       "165                Best Improvised Jazz Solo                       Elsewhere   \n",
       "166                Best Improvised Jazz Solo        Tomorrow Is The Question   \n",
       "167                Best Improvised Jazz Solo                      The Windup   \n",
       "\n",
       "    artist                     workers  is_winner  \n",
       "163   None    Stephen Paulus, composer       True  \n",
       "164   None      Randy Brecker, soloist       True  \n",
       "165   None     Melissa Aldana, soloist       True  \n",
       "166   None        Julian Lage, soloist       True  \n",
       "167   None  Branford Marsalis, soloist       True  "
      ]
     },
     "execution_count": 31,
     "metadata": {},
     "output_type": "execute_result"
    }
   ],
   "source": [
    "artist_null = df[df['artist'].isna()]\n",
    "artist_null.head()"
   ]
  },
  {
   "cell_type": "code",
   "execution_count": 32,
   "metadata": {},
   "outputs": [],
   "source": [
    "artist_index = artist_null.index"
   ]
  },
  {
   "cell_type": "markdown",
   "metadata": {},
   "source": [
    "##### **Roles of Interest**"
   ]
  },
  {
   "cell_type": "code",
   "execution_count": 33,
   "metadata": {},
   "outputs": [
    {
     "data": {
      "text/plain": [
       "[('artist', 80),\n",
       " ('producer', 73),\n",
       " ('soloist', 63),\n",
       " ('composer', 45),\n",
       " ('artists', 34),\n",
       " ('conductor', 27),\n",
       " ('engineer', 19),\n",
       " ('songwriters', 13),\n",
       " ('engineer/mixer', 10),\n",
       " ('producers', 9),\n",
       " ('Andreas Neubronner', 6),\n",
       " ('Tim Handley', 5),\n",
       " ('ensembles', 5),\n",
       " ('James Mallinson', 5),\n",
       " ('Thomas Frost', 4),\n",
       " ('Kirk Franklin', 3),\n",
       " ('songwriter', 3),\n",
       " ('soloists', 3),\n",
       " ('Karl-August Naegler', 3),\n",
       " ('Jonathan Allen', 2),\n",
       " ('John Newton', 2),\n",
       " ('engineers/mixers', 2),\n",
       " ('Christopher Alder', 2),\n",
       " ('Judith Sherman', 2),\n",
       " ('Adam Abeshouse', 2),\n",
       " ('Michelle DeYoung', 2),\n",
       " ('Hans Weber', 2),\n",
       " ('Robert Woods', 2),\n",
       " ('Lynn Harrell & Itzhak Perlman', 2),\n",
       " ('Artur Rubinstein & Henryk Szeryng', 2),\n",
       " ('David Harvey', 2),\n",
       " ('Thomas Z. Shepard', 2),\n",
       " ('Gregor Piatigorsky & William Primrose', 2),\n",
       " ('Bryan Fowler', 1),\n",
       " ('Gloria Gaynor & Chris Stevens', 1),\n",
       " ('Tony Brown', 1),\n",
       " ('Brandon Lake', 1),\n",
       " ('Tasha Cobbs Leonard & Nate Moore', 1),\n",
       " ('Josh Kerr', 1),\n",
       " ('Jordan Reynolds', 1),\n",
       " ('Joel Smallbone', 1),\n",
       " ('Luke Smallbone & Tedd Tjornhom', 1),\n",
       " ('Mark Hall', 1),\n",
       " ('Bernie Herms & Matthew West', 1),\n",
       " ('Danny Gokey', 1),\n",
       " ('Ethan Hulse & Colby Wedgeworth', 1),\n",
       " ('Ethan Hulse', 1),\n",
       " ('Andrew Ripp', 1),\n",
       " ('Jonathan Smith & Zach Williams', 1),\n",
       " ('Silas Brown & Harold Meltzer', 1),\n",
       " ('Leif Ove Andsnes', 1),\n",
       " ('accompanist', 1),\n",
       " ('Marina A. Ledin & Victor Ledin', 1),\n",
       " ('Elaine Martone', 1),\n",
       " ('Laura Heikinheimo', 1),\n",
       " ('Kirk Franklin & Victoria Kelly', 1),\n",
       " ('Lauren Daigle', 1),\n",
       " ('Jason Ingram & Paul Mabury', 1),\n",
       " ('Ludwig Göransson', 1),\n",
       " ('Chris Fogel', 1),\n",
       " ('Scott Fraser', 1),\n",
       " ('Jeannette Sorrell', 1),\n",
       " (\"Apollo's Fire\", 1),\n",
       " ('Erica Brenner', 1),\n",
       " ('Ian Dobie', 1),\n",
       " ('Ian Dobie & Daniel Shores', 1),\n",
       " ('mixers', 1),\n",
       " ('Dwan Hill & Alvin Love III', 1),\n",
       " ('Ben Fielding & Brooke Ligertwood', 1),\n",
       " ('conductor/soloist', 1),\n",
       " ('The Saint Paul Chamber Orchestra', 1),\n",
       " ('Blanton Alspaugh', 1),\n",
       " ('Mark Donahue', 1),\n",
       " ('Sid McLauchlan', 1),\n",
       " ('Marcus Herzog', 1),\n",
       " ('Gary Call', 1),\n",
       " ('Bernie Herms', 1),\n",
       " ('Hillary Scott & Emily Weisband', 1),\n",
       " ('Everett Porter', 1),\n",
       " ('John Fraser', 1),\n",
       " ('Philip Siney', 1),\n",
       " ('Jonathan Low', 1),\n",
       " ('Stephen Johns', 1),\n",
       " ('Aaron W. Lindsey & Smokie Norful', 1),\n",
       " ('Torrance Esmond', 1),\n",
       " ('Ran Jackson', 1),\n",
       " ('Ricky Jackson', 1),\n",
       " ('Kenneth Chris Mackey', 1),\n",
       " ('Lecrae Moore', 1),\n",
       " ('Joseph Prielozny', 1),\n",
       " ('Joel Smallbone & Luke Smallbone', 1),\n",
       " ('Andreas K. Meyer & Julian Schwenker', 1),\n",
       " ('Alan Bise', 1),\n",
       " ('Bruce Egre', 1),\n",
       " ('Jean-Pierre Loisil', 1),\n",
       " ('Thomas Dappelo', 1),\n",
       " ('Manfred Eicher', 1),\n",
       " ('Peter Laenger', 1),\n",
       " ('composers', 1),\n",
       " ('chorus master', 1),\n",
       " ('Riccardo Muti', 1),\n",
       " ('Isabelle Demers & Daniel Sullivan', 1),\n",
       " ('Stephen Roessner', 1),\n",
       " ('Hesperion XXI & La Capella Reial de Catalunya', 1),\n",
       " ('David Frost', 1),\n",
       " ('Tom Lazarus & Tim Martyn', 1),\n",
       " ('Anthony Dean Griffey', 1),\n",
       " ('Patti LuPone & Audra McDonald', 1),\n",
       " ('Fred Vogler', 1),\n",
       " ('Charles Bruffy', 1),\n",
       " ('Phoenix Chorale', 1),\n",
       " ('Yuri Bashmet', 1),\n",
       " ('Moscow Soloists', 1),\n",
       " ('Michael Brammann', 1),\n",
       " ('Klaus Hiemann & Oliver Rogalla Von Heyden', 1),\n",
       " ('engineers', 1),\n",
       " ('Jay David Saks', 1),\n",
       " ('Tony Faulkner', 1),\n",
       " ('John Adams & Lawrence L. Rock', 1),\n",
       " ('Rosalind Ilett', 1),\n",
       " ('Thomas Knab', 1),\n",
       " ('Rainer Maillard', 1),\n",
       " ('Jeff Von Der Schmidt', 1),\n",
       " ('Matthew Snyder', 1),\n",
       " ('Grace Row', 1),\n",
       " ('Charles Harbutt', 1),\n",
       " ('Southwest Chamber Music', 1),\n",
       " ('Norman Mackenzie', 1),\n",
       " ('Thomas Moore', 1),\n",
       " ('Joseph Jennings', 1),\n",
       " ('Preston Smith', 1),\n",
       " ('Ben Heppner', 1),\n",
       " ('Petra Lang', 1),\n",
       " ('Peter Mattei', 1),\n",
       " ('Stephen Milling', 1),\n",
       " ('Sara Mingardo & Kenneth Tarver', 1),\n",
       " ('Arne Akselberg & Truls Mork', 1),\n",
       " ('Arne Akselberg', 1),\n",
       " ('Philipp Nedel', 1),\n",
       " ('Tobias Lehmann', 1),\n",
       " ('Jens Schünemann', 1),\n",
       " ('Wolf-Dieter Karwatky', 1),\n",
       " ('Steven Epstein', 1),\n",
       " ('Joanna Nickrenz', 1),\n",
       " ('Yo-Yo Ma & Richard Stoltzman', 1),\n",
       " ('Dale Clevenger', 1),\n",
       " ('Larry Combs', 1),\n",
       " ('Daniele Damiano & Hansjorg Schellenberger', 1),\n",
       " ('John Aler & John Tomlinson', 1),\n",
       " ('Horst Dittberner', 1),\n",
       " ('June Anderson', 1),\n",
       " ('Nicolai Gedda', 1),\n",
       " ('Adolph Green', 1),\n",
       " ('Jerry Hadley', 1),\n",
       " ('Della Jones', 1),\n",
       " ('Christa Ludwig & Kurt Ollmann', 1),\n",
       " ('Jaime Laredo', 1),\n",
       " ('Yo-Yo Ma & Isaac Stern', 1),\n",
       " ('Evelyn Glennie', 1),\n",
       " ('Murray Perahia & Georg Solti', 1),\n",
       " ('John Strauss', 1),\n",
       " ('Samuel H. Carter', 1),\n",
       " ('Gunther Breest & Michael Horwath', 1),\n",
       " ('Christopher Bishop', 1),\n",
       " ('Dietrich Fischer-Dieskau', 1),\n",
       " ('Vladimir Horowitz', 1),\n",
       " ('Yehudi Menuhin', 1),\n",
       " ('Mstislav Rostropovich', 1),\n",
       " ('Isaac Stern & Lyndon Woodside', 1),\n",
       " ('Artur Rubinstein', 1),\n",
       " ('Max Wilcox', 1),\n",
       " ('Raymond Minshull', 1),\n",
       " ('Thomas Frost & Richard Killough', 1),\n",
       " ('Erik Smith', 1),\n",
       " ('Leonard Rose & Isaac Stern', 1),\n",
       " ('Rachel Elkind', 1),\n",
       " ('Cleveland Brass Ensemble & Philadelphia Brass Ensemble', 1),\n",
       " ('Vittorio Negri & Edward Tarr Brass Ensemble', 1),\n",
       " ('John McClure', 1),\n",
       " ('graphic designer', 1),\n",
       " ('Howard Scott', 1),\n",
       " ('choir director', 1)]"
      ]
     },
     "execution_count": 33,
     "metadata": {},
     "output_type": "execute_result"
    }
   ],
   "source": [
    "roles_flat = [\n",
    "    role.strip()\n",
    "    for worker in artist_null[\"workers\"].dropna()\n",
    "    for role in re.split(r'[;,]', worker)[1:]\n",
    "    if role.strip()\n",
    "]\n",
    "\n",
    "role_counts = Counter(roles_flat)\n",
    "\n",
    "role_counts.most_common()"
   ]
  },
  {
   "cell_type": "code",
   "execution_count": 34,
   "metadata": {},
   "outputs": [],
   "source": [
    "roles_interest = [\n",
    "    \"artist\",\n",
    "    \"artists\",\n",
    "    \"composer\",\n",
    "    \"conductor\",\n",
    "    \"choir director\",\n",
    "    \"chorus master\",\n",
    "    \"ensembles\",\n",
    "    \"soloist\",\n",
    "    \"soloists\",\n",
    "    \"conductor/soloist\",\n",
    "    \"graphic designer\"\n",
    "]"
   ]
  },
  {
   "cell_type": "markdown",
   "metadata": {},
   "source": [
    "##### **Solo Artist with Featuring**"
   ]
  },
  {
   "cell_type": "code",
   "execution_count": 35,
   "metadata": {},
   "outputs": [],
   "source": [
    "def send_workers_to_artist(row):\n",
    "    if pd.isna(row['artist']):\n",
    "        workers = row['workers']\n",
    "        if not re.search(r'[;,]', workers):\n",
    "            return workers\n",
    "    return row['artist']\n",
    "\n",
    "df['artist'] = df.apply(send_workers_to_artist, axis=1)"
   ]
  },
  {
   "cell_type": "code",
   "execution_count": 36,
   "metadata": {},
   "outputs": [
    {
     "data": {
      "text/html": [
       "<div>\n",
       "<style scoped>\n",
       "    .dataframe tbody tr th:only-of-type {\n",
       "        vertical-align: middle;\n",
       "    }\n",
       "\n",
       "    .dataframe tbody tr th {\n",
       "        vertical-align: top;\n",
       "    }\n",
       "\n",
       "    .dataframe thead th {\n",
       "        text-align: right;\n",
       "    }\n",
       "</style>\n",
       "<table border=\"1\" class=\"dataframe\">\n",
       "  <thead>\n",
       "    <tr style=\"text-align: right;\">\n",
       "      <th></th>\n",
       "      <th>year</th>\n",
       "      <th>title</th>\n",
       "      <th>category</th>\n",
       "      <th>nominee</th>\n",
       "      <th>artist</th>\n",
       "      <th>workers</th>\n",
       "      <th>is_winner</th>\n",
       "    </tr>\n",
       "  </thead>\n",
       "  <tbody>\n",
       "    <tr>\n",
       "      <th>192</th>\n",
       "      <td>2019</td>\n",
       "      <td>62nd Annual GRAMMY Awards  (2019)</td>\n",
       "      <td>Best Gospel Performance/Song</td>\n",
       "      <td>See The Light</td>\n",
       "      <td>Travis Greene Featuring Jekalyn Carr</td>\n",
       "      <td>Travis Greene Featuring Jekalyn Carr</td>\n",
       "      <td>True</td>\n",
       "    </tr>\n",
       "    <tr>\n",
       "      <th>193</th>\n",
       "      <td>2019</td>\n",
       "      <td>62nd Annual GRAMMY Awards  (2019)</td>\n",
       "      <td>Best Gospel Performance/Song</td>\n",
       "      <td>Speak The Name</td>\n",
       "      <td>Koryn Hawthorne Featuring Natalie Grant</td>\n",
       "      <td>Koryn Hawthorne Featuring Natalie Grant</td>\n",
       "      <td>True</td>\n",
       "    </tr>\n",
       "    <tr>\n",
       "      <th>402</th>\n",
       "      <td>2019</td>\n",
       "      <td>62nd Annual GRAMMY Awards  (2019)</td>\n",
       "      <td>Best Chamber Music/Small Ensemble Performance</td>\n",
       "      <td>Shaw: Orange</td>\n",
       "      <td>Attacca Quartet</td>\n",
       "      <td>Attacca Quartet</td>\n",
       "      <td>True</td>\n",
       "    </tr>\n",
       "    <tr>\n",
       "      <th>403</th>\n",
       "      <td>2019</td>\n",
       "      <td>62nd Annual GRAMMY Awards  (2019)</td>\n",
       "      <td>Best Chamber Music/Small Ensemble Performance</td>\n",
       "      <td>Cerrone: The Pieces That Fall To Earth</td>\n",
       "      <td>Christopher Rountree &amp; Wild Up</td>\n",
       "      <td>Christopher Rountree &amp; Wild Up</td>\n",
       "      <td>True</td>\n",
       "    </tr>\n",
       "  </tbody>\n",
       "</table>\n",
       "</div>"
      ],
      "text/plain": [
       "     year                              title  \\\n",
       "192  2019  62nd Annual GRAMMY Awards  (2019)   \n",
       "193  2019  62nd Annual GRAMMY Awards  (2019)   \n",
       "402  2019  62nd Annual GRAMMY Awards  (2019)   \n",
       "403  2019  62nd Annual GRAMMY Awards  (2019)   \n",
       "\n",
       "                                          category  \\\n",
       "192                   Best Gospel Performance/Song   \n",
       "193                   Best Gospel Performance/Song   \n",
       "402  Best Chamber Music/Small Ensemble Performance   \n",
       "403  Best Chamber Music/Small Ensemble Performance   \n",
       "\n",
       "                                    nominee  \\\n",
       "192                           See The Light   \n",
       "193                          Speak The Name   \n",
       "402                            Shaw: Orange   \n",
       "403  Cerrone: The Pieces That Fall To Earth   \n",
       "\n",
       "                                      artist  \\\n",
       "192     Travis Greene Featuring Jekalyn Carr   \n",
       "193  Koryn Hawthorne Featuring Natalie Grant   \n",
       "402                          Attacca Quartet   \n",
       "403           Christopher Rountree & Wild Up   \n",
       "\n",
       "                                     workers  is_winner  \n",
       "192     Travis Greene Featuring Jekalyn Carr       True  \n",
       "193  Koryn Hawthorne Featuring Natalie Grant       True  \n",
       "402                          Attacca Quartet       True  \n",
       "403           Christopher Rountree & Wild Up       True  "
      ]
     },
     "execution_count": 36,
     "metadata": {},
     "output_type": "execute_result"
    }
   ],
   "source": [
    "new_artist = df.loc[artist_index]\n",
    "new_artist.loc[[192, 193, 402, 403]]"
   ]
  },
  {
   "cell_type": "code",
   "execution_count": 37,
   "metadata": {},
   "outputs": [],
   "source": [
    "artist_null = df[df['artist'].isna()]\n",
    "artist_index = artist_null.index"
   ]
  },
  {
   "cell_type": "markdown",
   "metadata": {},
   "source": [
    "##### **Semicolons**"
   ]
  },
  {
   "cell_type": "code",
   "execution_count": 38,
   "metadata": {},
   "outputs": [],
   "source": [
    "def semicolon_artist(workers, roles):\n",
    "    parts = workers.split(';')\n",
    "    first_part = parts[0].strip()\n",
    "    if ',' not in first_part and not any(role in first_part for role in roles):\n",
    "        return first_part\n",
    "    return None\n",
    "\n",
    "df[\"artist\"] = df.apply(\n",
    "    lambda row: semicolon_artist(row['workers'], roles_interest) if pd.isna(row['artist']) else row['artist'],\n",
    "    axis=1\n",
    ")"
   ]
  },
  {
   "cell_type": "code",
   "execution_count": 39,
   "metadata": {},
   "outputs": [
    {
     "data": {
      "text/html": [
       "<div>\n",
       "<style scoped>\n",
       "    .dataframe tbody tr th:only-of-type {\n",
       "        vertical-align: middle;\n",
       "    }\n",
       "\n",
       "    .dataframe tbody tr th {\n",
       "        vertical-align: top;\n",
       "    }\n",
       "\n",
       "    .dataframe thead th {\n",
       "        text-align: right;\n",
       "    }\n",
       "</style>\n",
       "<table border=\"1\" class=\"dataframe\">\n",
       "  <thead>\n",
       "    <tr style=\"text-align: right;\">\n",
       "      <th></th>\n",
       "      <th>year</th>\n",
       "      <th>title</th>\n",
       "      <th>category</th>\n",
       "      <th>nominee</th>\n",
       "      <th>artist</th>\n",
       "      <th>workers</th>\n",
       "      <th>is_winner</th>\n",
       "    </tr>\n",
       "  </thead>\n",
       "  <tbody>\n",
       "    <tr>\n",
       "      <th>190</th>\n",
       "      <td>2019</td>\n",
       "      <td>62nd Annual GRAMMY Awards  (2019)</td>\n",
       "      <td>Best Gospel Performance/Song</td>\n",
       "      <td>Love Theory</td>\n",
       "      <td>Kirk Franklin</td>\n",
       "      <td>Kirk Franklin; Kirk Franklin, songwriter</td>\n",
       "      <td>True</td>\n",
       "    </tr>\n",
       "    <tr>\n",
       "      <th>191</th>\n",
       "      <td>2019</td>\n",
       "      <td>62nd Annual GRAMMY Awards  (2019)</td>\n",
       "      <td>Best Gospel Performance/Song</td>\n",
       "      <td>Talkin' 'Bout Jesus</td>\n",
       "      <td>Gloria Gaynor Featuring Yolanda Adams</td>\n",
       "      <td>Gloria Gaynor Featuring Yolanda Adams; Bryan F...</td>\n",
       "      <td>True</td>\n",
       "    </tr>\n",
       "    <tr>\n",
       "      <th>196</th>\n",
       "      <td>2019</td>\n",
       "      <td>62nd Annual GRAMMY Awards  (2019)</td>\n",
       "      <td>Best Contemporary Christian Music Performance/...</td>\n",
       "      <td>Only Jesus</td>\n",
       "      <td>Casting Crowns</td>\n",
       "      <td>Casting Crowns; Mark Hall, Bernie Herms &amp; Matt...</td>\n",
       "      <td>True</td>\n",
       "    </tr>\n",
       "    <tr>\n",
       "      <th>197</th>\n",
       "      <td>2019</td>\n",
       "      <td>62nd Annual GRAMMY Awards  (2019)</td>\n",
       "      <td>Best Contemporary Christian Music Performance/...</td>\n",
       "      <td>Haven't Seen It Yet</td>\n",
       "      <td>Danny Gokey</td>\n",
       "      <td>Danny Gokey; Danny Gokey, Ethan Hulse &amp; Colby ...</td>\n",
       "      <td>True</td>\n",
       "    </tr>\n",
       "  </tbody>\n",
       "</table>\n",
       "</div>"
      ],
      "text/plain": [
       "     year                              title  \\\n",
       "190  2019  62nd Annual GRAMMY Awards  (2019)   \n",
       "191  2019  62nd Annual GRAMMY Awards  (2019)   \n",
       "196  2019  62nd Annual GRAMMY Awards  (2019)   \n",
       "197  2019  62nd Annual GRAMMY Awards  (2019)   \n",
       "\n",
       "                                              category              nominee  \\\n",
       "190                       Best Gospel Performance/Song          Love Theory   \n",
       "191                       Best Gospel Performance/Song  Talkin' 'Bout Jesus   \n",
       "196  Best Contemporary Christian Music Performance/...           Only Jesus   \n",
       "197  Best Contemporary Christian Music Performance/...  Haven't Seen It Yet   \n",
       "\n",
       "                                    artist  \\\n",
       "190                          Kirk Franklin   \n",
       "191  Gloria Gaynor Featuring Yolanda Adams   \n",
       "196                         Casting Crowns   \n",
       "197                            Danny Gokey   \n",
       "\n",
       "                                               workers  is_winner  \n",
       "190           Kirk Franklin; Kirk Franklin, songwriter       True  \n",
       "191  Gloria Gaynor Featuring Yolanda Adams; Bryan F...       True  \n",
       "196  Casting Crowns; Mark Hall, Bernie Herms & Matt...       True  \n",
       "197  Danny Gokey; Danny Gokey, Ethan Hulse & Colby ...       True  "
      ]
     },
     "execution_count": 39,
     "metadata": {},
     "output_type": "execute_result"
    }
   ],
   "source": [
    "new_artists = df.loc[artist_index]\n",
    "new_artists.loc[[190, 191, 196, 197]]"
   ]
  },
  {
   "cell_type": "code",
   "execution_count": 40,
   "metadata": {},
   "outputs": [],
   "source": [
    "artist_null = df[df['artist'].isna()]\n",
    "artist_index = artist_null.index"
   ]
  },
  {
   "cell_type": "markdown",
   "metadata": {},
   "source": [
    "##### **Commas**"
   ]
  },
  {
   "cell_type": "code",
   "execution_count": 41,
   "metadata": {},
   "outputs": [],
   "source": [
    "def extract_roles(workers, roles):\n",
    "    pattern = r'([^;]+)\\s*(?:,\\s*(?:' + '|'.join(roles) + r'))'\n",
    "    matches = re.findall(pattern, workers)\n",
    "    return \", \".join(matches).strip() if matches else None\n",
    "\n",
    "df[\"artist\"] = df.apply(\n",
    "    lambda row: extract_roles(row[\"workers\"], roles_interest) if pd.isna(row[\"artist\"]) else row[\"artist\"],\n",
    "    axis=1\n",
    "    )"
   ]
  },
  {
   "cell_type": "code",
   "execution_count": 42,
   "metadata": {},
   "outputs": [
    {
     "data": {
      "text/html": [
       "<div>\n",
       "<style scoped>\n",
       "    .dataframe tbody tr th:only-of-type {\n",
       "        vertical-align: middle;\n",
       "    }\n",
       "\n",
       "    .dataframe tbody tr th {\n",
       "        vertical-align: top;\n",
       "    }\n",
       "\n",
       "    .dataframe thead th {\n",
       "        text-align: right;\n",
       "    }\n",
       "</style>\n",
       "<table border=\"1\" class=\"dataframe\">\n",
       "  <thead>\n",
       "    <tr style=\"text-align: right;\">\n",
       "      <th></th>\n",
       "      <th>year</th>\n",
       "      <th>title</th>\n",
       "      <th>category</th>\n",
       "      <th>nominee</th>\n",
       "      <th>artist</th>\n",
       "      <th>workers</th>\n",
       "      <th>is_winner</th>\n",
       "    </tr>\n",
       "  </thead>\n",
       "  <tbody>\n",
       "    <tr>\n",
       "      <th>163</th>\n",
       "      <td>2015</td>\n",
       "      <td>58th Annual GRAMMY Awards  (2015)</td>\n",
       "      <td>Best Contemporary Classical Composition</td>\n",
       "      <td>Paulus: Prayers &amp; Remembrances</td>\n",
       "      <td>Stephen Paulus</td>\n",
       "      <td>Stephen Paulus, composer</td>\n",
       "      <td>True</td>\n",
       "    </tr>\n",
       "    <tr>\n",
       "      <th>164</th>\n",
       "      <td>2019</td>\n",
       "      <td>62nd Annual GRAMMY Awards  (2019)</td>\n",
       "      <td>Best Improvised Jazz Solo</td>\n",
       "      <td>Sozinho</td>\n",
       "      <td>Randy Brecker</td>\n",
       "      <td>Randy Brecker, soloist</td>\n",
       "      <td>True</td>\n",
       "    </tr>\n",
       "    <tr>\n",
       "      <th>165</th>\n",
       "      <td>2019</td>\n",
       "      <td>62nd Annual GRAMMY Awards  (2019)</td>\n",
       "      <td>Best Improvised Jazz Solo</td>\n",
       "      <td>Elsewhere</td>\n",
       "      <td>Melissa Aldana</td>\n",
       "      <td>Melissa Aldana, soloist</td>\n",
       "      <td>True</td>\n",
       "    </tr>\n",
       "    <tr>\n",
       "      <th>166</th>\n",
       "      <td>2019</td>\n",
       "      <td>62nd Annual GRAMMY Awards  (2019)</td>\n",
       "      <td>Best Improvised Jazz Solo</td>\n",
       "      <td>Tomorrow Is The Question</td>\n",
       "      <td>Julian Lage</td>\n",
       "      <td>Julian Lage, soloist</td>\n",
       "      <td>True</td>\n",
       "    </tr>\n",
       "    <tr>\n",
       "      <th>167</th>\n",
       "      <td>2019</td>\n",
       "      <td>62nd Annual GRAMMY Awards  (2019)</td>\n",
       "      <td>Best Improvised Jazz Solo</td>\n",
       "      <td>The Windup</td>\n",
       "      <td>Branford Marsalis</td>\n",
       "      <td>Branford Marsalis, soloist</td>\n",
       "      <td>True</td>\n",
       "    </tr>\n",
       "  </tbody>\n",
       "</table>\n",
       "</div>"
      ],
      "text/plain": [
       "     year                              title  \\\n",
       "163  2015  58th Annual GRAMMY Awards  (2015)   \n",
       "164  2019  62nd Annual GRAMMY Awards  (2019)   \n",
       "165  2019  62nd Annual GRAMMY Awards  (2019)   \n",
       "166  2019  62nd Annual GRAMMY Awards  (2019)   \n",
       "167  2019  62nd Annual GRAMMY Awards  (2019)   \n",
       "\n",
       "                                    category                         nominee  \\\n",
       "163  Best Contemporary Classical Composition  Paulus: Prayers & Remembrances   \n",
       "164                Best Improvised Jazz Solo                         Sozinho   \n",
       "165                Best Improvised Jazz Solo                       Elsewhere   \n",
       "166                Best Improvised Jazz Solo        Tomorrow Is The Question   \n",
       "167                Best Improvised Jazz Solo                      The Windup   \n",
       "\n",
       "                artist                     workers  is_winner  \n",
       "163     Stephen Paulus    Stephen Paulus, composer       True  \n",
       "164      Randy Brecker      Randy Brecker, soloist       True  \n",
       "165     Melissa Aldana     Melissa Aldana, soloist       True  \n",
       "166        Julian Lage        Julian Lage, soloist       True  \n",
       "167  Branford Marsalis  Branford Marsalis, soloist       True  "
      ]
     },
     "execution_count": 42,
     "metadata": {},
     "output_type": "execute_result"
    }
   ],
   "source": [
    "new_artists = df.loc[artist_index]\n",
    "new_artists.head()"
   ]
  },
  {
   "cell_type": "code",
   "execution_count": 43,
   "metadata": {},
   "outputs": [
    {
     "data": {
      "text/plain": [
       "year            0\n",
       "title           0\n",
       "category        0\n",
       "nominee         0\n",
       "artist          5\n",
       "workers      2156\n",
       "is_winner       0\n",
       "dtype: int64"
      ]
     },
     "execution_count": 43,
     "metadata": {},
     "output_type": "execute_result"
    }
   ],
   "source": [
    "df.isna().sum()"
   ]
  },
  {
   "cell_type": "code",
   "execution_count": 44,
   "metadata": {},
   "outputs": [
    {
     "data": {
      "text/html": [
       "<div>\n",
       "<style scoped>\n",
       "    .dataframe tbody tr th:only-of-type {\n",
       "        vertical-align: middle;\n",
       "    }\n",
       "\n",
       "    .dataframe tbody tr th {\n",
       "        vertical-align: top;\n",
       "    }\n",
       "\n",
       "    .dataframe thead th {\n",
       "        text-align: right;\n",
       "    }\n",
       "</style>\n",
       "<table border=\"1\" class=\"dataframe\">\n",
       "  <thead>\n",
       "    <tr style=\"text-align: right;\">\n",
       "      <th></th>\n",
       "      <th>year</th>\n",
       "      <th>title</th>\n",
       "      <th>category</th>\n",
       "      <th>nominee</th>\n",
       "      <th>artist</th>\n",
       "      <th>workers</th>\n",
       "      <th>is_winner</th>\n",
       "    </tr>\n",
       "  </thead>\n",
       "  <tbody>\n",
       "    <tr>\n",
       "      <th>777</th>\n",
       "      <td>2015</td>\n",
       "      <td>58th Annual GRAMMY Awards  (2015)</td>\n",
       "      <td>Best Chamber Music/Small Ensemble Performance</td>\n",
       "      <td>Filament</td>\n",
       "      <td>None</td>\n",
       "      <td>Bryce Dessner, producer; Jonathan Low, engineer</td>\n",
       "      <td>True</td>\n",
       "    </tr>\n",
       "    <tr>\n",
       "      <th>861</th>\n",
       "      <td>2014</td>\n",
       "      <td>57th Annual GRAMMY Awards  (2014)</td>\n",
       "      <td>Best Chamber Music/Small Ensemble Performance</td>\n",
       "      <td>In 27 Pieces - The Hilary Hahn Encores</td>\n",
       "      <td>None</td>\n",
       "      <td>Hilary Hahn &amp; Andreas K. Meyer, producers; And...</td>\n",
       "      <td>True</td>\n",
       "    </tr>\n",
       "    <tr>\n",
       "      <th>1869</th>\n",
       "      <td>2004</td>\n",
       "      <td>47th Annual GRAMMY Awards  (2004)</td>\n",
       "      <td>Best Chamber Music Performance</td>\n",
       "      <td>Prokofiev (Arr. Pletnev): Cinderella - Suite F...</td>\n",
       "      <td>None</td>\n",
       "      <td>Christian Gansch, producer; Rainer Maillard, e...</td>\n",
       "      <td>True</td>\n",
       "    </tr>\n",
       "    <tr>\n",
       "      <th>2182</th>\n",
       "      <td>2001</td>\n",
       "      <td>44th Annual GRAMMY Awards  (2001)</td>\n",
       "      <td>Best Small Ensemble Performance (with or witho...</td>\n",
       "      <td>After Mozart - Raskatov, Silvestrov &amp; Schnittke</td>\n",
       "      <td>None</td>\n",
       "      <td>Gidon Kremer &amp; Helmut Mühle, producers; Philip...</td>\n",
       "      <td>True</td>\n",
       "    </tr>\n",
       "    <tr>\n",
       "      <th>2285</th>\n",
       "      <td>2000</td>\n",
       "      <td>43rd Annual GRAMMY Awards  (2000)</td>\n",
       "      <td>Best Small Ensemble Performance (with or witho...</td>\n",
       "      <td>Shadow Dances - Stravinsky Miniatures, Tango, ...</td>\n",
       "      <td>None</td>\n",
       "      <td>Christian Gansch, producer; Wolf-Dieter Karwat...</td>\n",
       "      <td>True</td>\n",
       "    </tr>\n",
       "  </tbody>\n",
       "</table>\n",
       "</div>"
      ],
      "text/plain": [
       "      year                              title  \\\n",
       "777   2015  58th Annual GRAMMY Awards  (2015)   \n",
       "861   2014  57th Annual GRAMMY Awards  (2014)   \n",
       "1869  2004  47th Annual GRAMMY Awards  (2004)   \n",
       "2182  2001  44th Annual GRAMMY Awards  (2001)   \n",
       "2285  2000  43rd Annual GRAMMY Awards  (2000)   \n",
       "\n",
       "                                               category  \\\n",
       "777       Best Chamber Music/Small Ensemble Performance   \n",
       "861       Best Chamber Music/Small Ensemble Performance   \n",
       "1869                     Best Chamber Music Performance   \n",
       "2182  Best Small Ensemble Performance (with or witho...   \n",
       "2285  Best Small Ensemble Performance (with or witho...   \n",
       "\n",
       "                                                nominee artist  \\\n",
       "777                                            Filament   None   \n",
       "861              In 27 Pieces - The Hilary Hahn Encores   None   \n",
       "1869  Prokofiev (Arr. Pletnev): Cinderella - Suite F...   None   \n",
       "2182    After Mozart - Raskatov, Silvestrov & Schnittke   None   \n",
       "2285  Shadow Dances - Stravinsky Miniatures, Tango, ...   None   \n",
       "\n",
       "                                                workers  is_winner  \n",
       "777     Bryce Dessner, producer; Jonathan Low, engineer       True  \n",
       "861   Hilary Hahn & Andreas K. Meyer, producers; And...       True  \n",
       "1869  Christian Gansch, producer; Rainer Maillard, e...       True  \n",
       "2182  Gidon Kremer & Helmut Mühle, producers; Philip...       True  \n",
       "2285  Christian Gansch, producer; Wolf-Dieter Karwat...       True  "
      ]
     },
     "execution_count": 44,
     "metadata": {},
     "output_type": "execute_result"
    }
   ],
   "source": [
    "artist_null = df.loc[df['artist'].isnull()]\n",
    "artist_null"
   ]
  },
  {
   "cell_type": "markdown",
   "metadata": {},
   "source": [
    "We will delete these entries as none of the categories selected before appear here. Additionally, we would only find _engineers_, _mixers_, and _producers_, and since our main concern is the artist name (`artist` column), we will also delete the `workers` column."
   ]
  },
  {
   "cell_type": "code",
   "execution_count": 45,
   "metadata": {},
   "outputs": [],
   "source": [
    "df = df.dropna(subset=[\"artist\"])\n",
    "df = df.drop(columns=[\"workers\"])"
   ]
  },
  {
   "cell_type": "code",
   "execution_count": 46,
   "metadata": {},
   "outputs": [
    {
     "data": {
      "text/html": [
       "<div>\n",
       "<style scoped>\n",
       "    .dataframe tbody tr th:only-of-type {\n",
       "        vertical-align: middle;\n",
       "    }\n",
       "\n",
       "    .dataframe tbody tr th {\n",
       "        vertical-align: top;\n",
       "    }\n",
       "\n",
       "    .dataframe thead th {\n",
       "        text-align: right;\n",
       "    }\n",
       "</style>\n",
       "<table border=\"1\" class=\"dataframe\">\n",
       "  <thead>\n",
       "    <tr style=\"text-align: right;\">\n",
       "      <th></th>\n",
       "      <th>year</th>\n",
       "      <th>title</th>\n",
       "      <th>category</th>\n",
       "      <th>nominee</th>\n",
       "      <th>artist</th>\n",
       "      <th>is_winner</th>\n",
       "    </tr>\n",
       "  </thead>\n",
       "  <tbody>\n",
       "    <tr>\n",
       "      <th>0</th>\n",
       "      <td>2019</td>\n",
       "      <td>62nd Annual GRAMMY Awards  (2019)</td>\n",
       "      <td>Record Of The Year</td>\n",
       "      <td>Bad Guy</td>\n",
       "      <td>Billie Eilish</td>\n",
       "      <td>True</td>\n",
       "    </tr>\n",
       "    <tr>\n",
       "      <th>1</th>\n",
       "      <td>2019</td>\n",
       "      <td>62nd Annual GRAMMY Awards  (2019)</td>\n",
       "      <td>Record Of The Year</td>\n",
       "      <td>Hey, Ma</td>\n",
       "      <td>Bon Iver</td>\n",
       "      <td>True</td>\n",
       "    </tr>\n",
       "    <tr>\n",
       "      <th>2</th>\n",
       "      <td>2019</td>\n",
       "      <td>62nd Annual GRAMMY Awards  (2019)</td>\n",
       "      <td>Record Of The Year</td>\n",
       "      <td>7 rings</td>\n",
       "      <td>Ariana Grande</td>\n",
       "      <td>True</td>\n",
       "    </tr>\n",
       "    <tr>\n",
       "      <th>3</th>\n",
       "      <td>2019</td>\n",
       "      <td>62nd Annual GRAMMY Awards  (2019)</td>\n",
       "      <td>Record Of The Year</td>\n",
       "      <td>Hard Place</td>\n",
       "      <td>H.E.R.</td>\n",
       "      <td>True</td>\n",
       "    </tr>\n",
       "    <tr>\n",
       "      <th>4</th>\n",
       "      <td>2019</td>\n",
       "      <td>62nd Annual GRAMMY Awards  (2019)</td>\n",
       "      <td>Record Of The Year</td>\n",
       "      <td>Talk</td>\n",
       "      <td>Khalid</td>\n",
       "      <td>True</td>\n",
       "    </tr>\n",
       "  </tbody>\n",
       "</table>\n",
       "</div>"
      ],
      "text/plain": [
       "   year                              title            category     nominee  \\\n",
       "0  2019  62nd Annual GRAMMY Awards  (2019)  Record Of The Year     Bad Guy   \n",
       "1  2019  62nd Annual GRAMMY Awards  (2019)  Record Of The Year     Hey, Ma   \n",
       "2  2019  62nd Annual GRAMMY Awards  (2019)  Record Of The Year     7 rings   \n",
       "3  2019  62nd Annual GRAMMY Awards  (2019)  Record Of The Year  Hard Place   \n",
       "4  2019  62nd Annual GRAMMY Awards  (2019)  Record Of The Year        Talk   \n",
       "\n",
       "          artist  is_winner  \n",
       "0  Billie Eilish       True  \n",
       "1       Bon Iver       True  \n",
       "2  Ariana Grande       True  \n",
       "3         H.E.R.       True  \n",
       "4         Khalid       True  "
      ]
     },
     "execution_count": 46,
     "metadata": {},
     "output_type": "execute_result"
    }
   ],
   "source": [
    "df.head()"
   ]
  },
  {
   "cell_type": "markdown",
   "metadata": {},
   "source": [
    "#### **Data Transforming - Various Artists**"
   ]
  },
  {
   "cell_type": "code",
   "execution_count": 47,
   "metadata": {},
   "outputs": [
    {
     "data": {
      "text/plain": [
       "artist\n",
       "(Various Artists)                                          66\n",
       "Various Artists                                            43\n",
       "Chicago Symphony Orchestra                                 29\n",
       "John Williams                                              24\n",
       "Henry Mancini                                              22\n",
       "                                                           ..\n",
       "Norman Luboff Choir                                         1\n",
       "Royal Philharmonic Chorus; Royal Philharmonic Orchestra     1\n",
       "Aaron Copland                                               1\n",
       "Frank Sinatra And Original Cast                             1\n",
       "Mary Martin And Original Broadway Cast                      1\n",
       "Name: count, Length: 2463, dtype: int64"
      ]
     },
     "execution_count": 47,
     "metadata": {},
     "output_type": "execute_result"
    }
   ],
   "source": [
    "df['artist'].value_counts()"
   ]
  },
  {
   "cell_type": "code",
   "execution_count": 48,
   "metadata": {},
   "outputs": [],
   "source": [
    "df['artist'] = df['artist'].replace({'(Various Artists)': 'Various Artists'})"
   ]
  },
  {
   "cell_type": "code",
   "execution_count": 49,
   "metadata": {},
   "outputs": [
    {
     "data": {
      "text/plain": [
       "artist\n",
       "Various Artists                                            109\n",
       "Chicago Symphony Orchestra                                  29\n",
       "John Williams                                               24\n",
       "Henry Mancini                                               22\n",
       "Vladimir Horowitz                                           20\n",
       "                                                          ... \n",
       "Norman Luboff Choir                                          1\n",
       "Royal Philharmonic Chorus; Royal Philharmonic Orchestra      1\n",
       "Aaron Copland                                                1\n",
       "Frank Sinatra And Original Cast                              1\n",
       "Mary Martin And Original Broadway Cast                       1\n",
       "Name: count, Length: 2462, dtype: int64"
      ]
     },
     "execution_count": 49,
     "metadata": {},
     "output_type": "execute_result"
    }
   ],
   "source": [
    "df['artist'].value_counts()"
   ]
  },
  {
   "cell_type": "markdown",
   "metadata": {},
   "source": [
    "### **Data Understanding**"
   ]
  },
  {
   "cell_type": "markdown",
   "metadata": {},
   "source": [
    "#### **Awards Categorisation per Decade**"
   ]
  },
  {
   "cell_type": "code",
   "execution_count": 50,
   "metadata": {},
   "outputs": [],
   "source": [
    "data_awards = df.copy()"
   ]
  },
  {
   "cell_type": "code",
   "execution_count": 51,
   "metadata": {},
   "outputs": [
    {
     "data": {
      "text/html": [
       "<div>\n",
       "<style scoped>\n",
       "    .dataframe tbody tr th:only-of-type {\n",
       "        vertical-align: middle;\n",
       "    }\n",
       "\n",
       "    .dataframe tbody tr th {\n",
       "        vertical-align: top;\n",
       "    }\n",
       "\n",
       "    .dataframe thead th {\n",
       "        text-align: right;\n",
       "    }\n",
       "</style>\n",
       "<table border=\"1\" class=\"dataframe\">\n",
       "  <thead>\n",
       "    <tr style=\"text-align: right;\">\n",
       "      <th></th>\n",
       "      <th>year</th>\n",
       "      <th>title</th>\n",
       "      <th>category</th>\n",
       "      <th>nominee</th>\n",
       "      <th>artist</th>\n",
       "      <th>is_winner</th>\n",
       "      <th>decade</th>\n",
       "    </tr>\n",
       "  </thead>\n",
       "  <tbody>\n",
       "    <tr>\n",
       "      <th>0</th>\n",
       "      <td>2019</td>\n",
       "      <td>62nd Annual GRAMMY Awards  (2019)</td>\n",
       "      <td>Record Of The Year</td>\n",
       "      <td>Bad Guy</td>\n",
       "      <td>Billie Eilish</td>\n",
       "      <td>True</td>\n",
       "      <td>2010</td>\n",
       "    </tr>\n",
       "    <tr>\n",
       "      <th>1</th>\n",
       "      <td>2019</td>\n",
       "      <td>62nd Annual GRAMMY Awards  (2019)</td>\n",
       "      <td>Record Of The Year</td>\n",
       "      <td>Hey, Ma</td>\n",
       "      <td>Bon Iver</td>\n",
       "      <td>True</td>\n",
       "      <td>2010</td>\n",
       "    </tr>\n",
       "    <tr>\n",
       "      <th>2</th>\n",
       "      <td>2019</td>\n",
       "      <td>62nd Annual GRAMMY Awards  (2019)</td>\n",
       "      <td>Record Of The Year</td>\n",
       "      <td>7 rings</td>\n",
       "      <td>Ariana Grande</td>\n",
       "      <td>True</td>\n",
       "      <td>2010</td>\n",
       "    </tr>\n",
       "    <tr>\n",
       "      <th>3</th>\n",
       "      <td>2019</td>\n",
       "      <td>62nd Annual GRAMMY Awards  (2019)</td>\n",
       "      <td>Record Of The Year</td>\n",
       "      <td>Hard Place</td>\n",
       "      <td>H.E.R.</td>\n",
       "      <td>True</td>\n",
       "      <td>2010</td>\n",
       "    </tr>\n",
       "    <tr>\n",
       "      <th>4</th>\n",
       "      <td>2019</td>\n",
       "      <td>62nd Annual GRAMMY Awards  (2019)</td>\n",
       "      <td>Record Of The Year</td>\n",
       "      <td>Talk</td>\n",
       "      <td>Khalid</td>\n",
       "      <td>True</td>\n",
       "      <td>2010</td>\n",
       "    </tr>\n",
       "  </tbody>\n",
       "</table>\n",
       "</div>"
      ],
      "text/plain": [
       "   year                              title            category     nominee  \\\n",
       "0  2019  62nd Annual GRAMMY Awards  (2019)  Record Of The Year     Bad Guy   \n",
       "1  2019  62nd Annual GRAMMY Awards  (2019)  Record Of The Year     Hey, Ma   \n",
       "2  2019  62nd Annual GRAMMY Awards  (2019)  Record Of The Year     7 rings   \n",
       "3  2019  62nd Annual GRAMMY Awards  (2019)  Record Of The Year  Hard Place   \n",
       "4  2019  62nd Annual GRAMMY Awards  (2019)  Record Of The Year        Talk   \n",
       "\n",
       "          artist  is_winner  decade  \n",
       "0  Billie Eilish       True    2010  \n",
       "1       Bon Iver       True    2010  \n",
       "2  Ariana Grande       True    2010  \n",
       "3         H.E.R.       True    2010  \n",
       "4         Khalid       True    2010  "
      ]
     },
     "execution_count": 51,
     "metadata": {},
     "output_type": "execute_result"
    }
   ],
   "source": [
    "data_awards['decade'] = (data_awards['year'] // 10)* 10\n",
    "data_awards.head()"
   ]
  },
  {
   "cell_type": "markdown",
   "metadata": {},
   "source": [
    "#### **Awards Nominations per Decade**"
   ]
  },
  {
   "cell_type": "code",
   "execution_count": 52,
   "metadata": {},
   "outputs": [],
   "source": [
    "spotify_black = '#191414'\n",
    "spotify_green = '#1DB954' \n",
    "light_green = '#7AEAA1'    \n",
    "dark_green = '#0d5f29'     \n",
    "\n",
    "cmap = LinearSegmentedColormap.from_list('spotify_greens', [light_green, spotify_green, dark_green])"
   ]
  },
  {
   "cell_type": "code",
   "execution_count": 53,
   "metadata": {},
   "outputs": [],
   "source": [
    "nom_per_dec = data_awards['decade'].value_counts().sort_index()\n",
    "\n",
    "colours = cmap(np.linspace(0, 1, len(nom_per_dec)))"
   ]
  },
  {
   "cell_type": "code",
   "execution_count": 54,
   "metadata": {},
   "outputs": [
    {
     "data": {
      "image/png": "[encoded data removed]",
      "text/plain": [
       "<Figure size 1000x600 with 1 Axes>"
      ]
     },
     "metadata": {},
     "output_type": "display_data"
    }
   ],
   "source": [
    "plt.figure(figsize=(10, 6))\n",
    "\n",
    "nom_per_dec.plot(kind='bar', color=colours)\n",
    "\n",
    "plt.title('Grammy Nominations per Decade')\n",
    "plt.xlabel('Decade')\n",
    "plt.ylabel('Number of Nominations')\n",
    "\n",
    "plt.xticks(rotation = 0)\n",
    "\n",
    "plt.show()"
   ]
  },
  {
   "cell_type": "markdown",
   "metadata": {},
   "source": [
    "#### **Most Nominated Artists per Decade**"
   ]
  },
  {
   "cell_type": "code",
   "execution_count": 55,
   "metadata": {},
   "outputs": [
    {
     "name": "stderr",
     "output_type": "stream",
     "text": [
      "INFO:matplotlib.category:Using categorical units to plot a list of strings that are all parsable as floats or dates. If these strings should be plotted as numbers, cast to the appropriate data type before plotting.\n",
      "C:\\Users\\sebas\\AppData\\Local\\Temp\\ipykernel_7768\\2533317574.py:15: UserWarning: Numpy array is not a supported type for `palette`. Please convert your palette to a list. This will become an error in v0.14\n",
      "  bars = sns.barplot(x='decade',\n",
      "INFO:matplotlib.category:Using categorical units to plot a list of strings that are all parsable as floats or dates. If these strings should be plotted as numbers, cast to the appropriate data type before plotting.\n"
     ]
    },
    {
     "data": {
      "image/png": "[encoded data removed]",
      "text/plain": [
       "<Figure size 1200x800 with 1 Axes>"
      ]
     },
     "metadata": {},
     "output_type": "display_data"
    }
   ],
   "source": [
    "filtered_data_awards = data_awards[data_awards['artist'] != 'Various Artists']\n",
    "\n",
    "most_nom_per_dec = (filtered_data_awards.groupby(['decade','artist'])\n",
    "                    .size()\n",
    "                    .reset_index(name='count')\n",
    "                    .sort_values(['decade','count'], ascending=[True, False])\n",
    "                    .groupby('decade')\n",
    "                    .first()\n",
    "                    .reset_index())\n",
    "\n",
    "plt.figure(figsize=(12, 8))\n",
    "\n",
    "colours = cmap(np.linspace(0, 1, len(most_nom_per_dec)))\n",
    "\n",
    "bars = sns.barplot(x='decade',\n",
    "            y='count',\n",
    "            hue='artist',\n",
    "            data=most_nom_per_dec,\n",
    "            palette=colours)\n",
    "\n",
    "plt.title('Most Nominated Artist per Decade')\n",
    "plt.xlabel('Decade')\n",
    "plt.ylabel('Number of Nominations')\n",
    "plt.legend(title='Artist', bbox_to_anchor=(1.05, 1), loc='upper left')\n",
    "\n",
    "plt.tight_layout()\n",
    "plt.show()"
   ]
  },
  {
   "cell_type": "code",
   "execution_count": 56,
   "metadata": {},
   "outputs": [
    {
     "data": {
      "text/html": [
       "<div>\n",
       "<style scoped>\n",
       "    .dataframe tbody tr th:only-of-type {\n",
       "        vertical-align: middle;\n",
       "    }\n",
       "\n",
       "    .dataframe tbody tr th {\n",
       "        vertical-align: top;\n",
       "    }\n",
       "\n",
       "    .dataframe thead th {\n",
       "        text-align: right;\n",
       "    }\n",
       "</style>\n",
       "<table border=\"1\" class=\"dataframe\">\n",
       "  <thead>\n",
       "    <tr style=\"text-align: right;\">\n",
       "      <th></th>\n",
       "      <th>decade</th>\n",
       "      <th>artist</th>\n",
       "      <th>count</th>\n",
       "    </tr>\n",
       "  </thead>\n",
       "  <tbody>\n",
       "    <tr>\n",
       "      <th>0</th>\n",
       "      <td>1950</td>\n",
       "      <td>Ella Fitzgerald</td>\n",
       "      <td>4</td>\n",
       "    </tr>\n",
       "    <tr>\n",
       "      <th>1</th>\n",
       "      <td>1960</td>\n",
       "      <td>Henry Mancini</td>\n",
       "      <td>18</td>\n",
       "    </tr>\n",
       "    <tr>\n",
       "      <th>2</th>\n",
       "      <td>1970</td>\n",
       "      <td>Stevie Wonder</td>\n",
       "      <td>13</td>\n",
       "    </tr>\n",
       "    <tr>\n",
       "      <th>3</th>\n",
       "      <td>1980</td>\n",
       "      <td>Michael Jackson</td>\n",
       "      <td>11</td>\n",
       "    </tr>\n",
       "    <tr>\n",
       "      <th>4</th>\n",
       "      <td>1990</td>\n",
       "      <td>Eric Clapton</td>\n",
       "      <td>11</td>\n",
       "    </tr>\n",
       "  </tbody>\n",
       "</table>\n",
       "</div>"
      ],
      "text/plain": [
       "   decade           artist  count\n",
       "0    1950  Ella Fitzgerald      4\n",
       "1    1960    Henry Mancini     18\n",
       "2    1970    Stevie Wonder     13\n",
       "3    1980  Michael Jackson     11\n",
       "4    1990     Eric Clapton     11"
      ]
     },
     "execution_count": 56,
     "metadata": {},
     "output_type": "execute_result"
    }
   ],
   "source": [
    "most_nom_per_dec.head()"
   ]
  },
  {
   "cell_type": "markdown",
   "metadata": {},
   "source": [
    "#### **Most Nominated Artists**"
   ]
  },
  {
   "cell_type": "code",
   "execution_count": 57,
   "metadata": {},
   "outputs": [
    {
     "data": {
      "image/png": "[encoded data removed]",
      "text/plain": [
       "<Figure size 1200x800 with 1 Axes>"
      ]
     },
     "metadata": {},
     "output_type": "display_data"
    }
   ],
   "source": [
    "nominated_artists = data_awards['artist'].value_counts().head(10)\n",
    "\n",
    "plt.figure(figsize=(12, 8))\n",
    "\n",
    "colours = list(cmap(np.linspace(1, 0, len(nominated_artists))))\n",
    "\n",
    "sns.barplot(\n",
    "    x=nominated_artists.values, \n",
    "    y=nominated_artists.index, \n",
    "    hue=nominated_artists.index,\n",
    "    palette=colours, \n",
    "    legend=False\n",
    ")\n",
    "\n",
    "plt.title('Top 10 Most Nominated Artists')\n",
    "plt.xlabel('Number of Nominations')\n",
    "plt.ylabel('Artist')\n",
    "\n",
    "plt.tight_layout()\n",
    "plt.show()\n"
   ]
  },
  {
   "cell_type": "markdown",
   "metadata": {},
   "source": [
    "### **Key Insights and Conclusions**"
   ]
  },
  {
   "cell_type": "markdown",
   "metadata": {},
   "source": [
    "The exploratory data analysis of the Grammy Awards dataset provides several concise insights into nomination trends, based on data cleaning, transformation, and visualisations.\n",
    "\n",
    "#### **Data Cleaning and Transformation**\n",
    "1. **Column Removal**: I removed unnecessary columns like `img`, `updated_at`, and `published_at` to streamline the dataset, as they were irrelevant to the analysis.\n",
    "2. **Renaming Columns**: I renamed the `winner` column to `is_winner` for clarity, retaining it to track nomination outcomes.\n",
    "3. **Handling Missing Values**: I dropped 5 rows with missing `nominee` values and removed 1,614 rows where both `artist` and `workers` were null, particularly in classical categories. I also dropped the `workers` column after extracting relevant artist information.\n",
    "4. **Artist Extraction**: I filled missing `artist` values by identifying patterns in the `workers` column (e.g., standalone names, semicolons, role designations like artist, composer, conductor), reducing null `artist` values from 2,191 to 0.\n",
    "5. **Data Transformation**: I standardised the `artist` column by replacing '(Various Artists)' with 'Various Artists' for consistency. I also created a `decade` column by grouping `year` into decades (e.g., 1950s, 1960s) to enable temporal analysis.\n",
    "\n",
    "#### **Key Insights**\n",
    "\n",
    "##### **Nomination Trends**\n",
    "1. **Nominations Over Time**: The \"_Grammy Nominations per Decade_\" bar chart shows a steady increase in nominations, from fewer than 100 in the 1950s to over 1,200 in the 2010s, reflecting the Grammy Awards' expansion in categories and genres.\n",
    "2. **Peak Decade**: The 2010s had the highest number of nominations (over 1,200), likely due to a significant reorganisation of Grammy categories in 2011–2012, which streamlined the awards and increased nominee diversity.\n",
    "\n",
    "##### **Artist Analysis**\n",
    "1. **Top Nominated Artists**: The \"_Top 10 Most Nominated Artists_\" bar chart reveals that \"Various Artists\" (collaborative/compilation albums) leads with over 100 nominations, followed by the Chicago Symphony Orchestra and John Williams, each with around 60–70 nominations. Artists like Henry Mancini, Vladimir Horowitz, Bruce Springsteen, Aretha Franklin, Stevie Wonder, U2, and Beyoncé also feature, with 20–50 nominations, showcasing diversity across classical, pop, rock, and R&B.\n",
    "2. **Most Nominated per Decade**: The \"_Most Nominated Artist per Decade_\" bar chart highlights shifts in artist dominance:\n",
    "   - `1950s`: Ella Fitzgerald (around 5 nominations).\n",
    "   - `1960s`: Henry Mancini (around 17 nominations).\n",
    "   - `1970s`: Stevie Wonder (around 12 nominations).\n",
    "   - `1980s`: Michael Jackson (around 12 nominations).\n",
    "   - `1990s`: Eric Clapton (around 11 nominations).\n",
    "   - `2000s`: Bruce Springsteen (around 11 nominations).\n",
    "   - `2010s`: Adele (around 11 nominations).\n",
    "   This reflects evolving musical trends, from jazz/classical to pop/rock and modern pop.\n",
    "\n",
    "##### **Visualisation Techniques**\n",
    "1. **Temporal Trends**: The \"_Grammy Nominations per Decade_\" bar chart uses a gradient of Spotify greens to illustrate the growth in nominations over decades, making the upward trend visually clear.\n",
    "2. **Artist Comparisons**: The \"_Top 10 Most Nominated Artists_\" bar chart employs a horizontal layout with a green gradient to rank artists by nomination count, highlighting the dominance of \"Various Artists\".\n",
    "3. **Decadal Leaders**: The \"_Most Nominated Artist per Decade_\" bar chart uses distinct colours for each artist, paired with a legend, to show the leading artist per decade, effectively illustrating shifts in musical influence over time.\n",
    "\n",
    "#### **Business Implications**\n",
    "1. **Award Show Strategy**: The steady increase in nominations, peaking in the 2010s, suggests that the Grammys should continue expanding and refining categories to reflect evolving music trends, ensuring broader representation.\n",
    "2. **Artist Promotion**: Artists like Adele, Bruce Springsteen, and Beyoncé, who dominate recent decades, can be leveraged for marketing and viewership, as their nomination history indicates strong fan appeal.\n",
    "3. **Genre Focus**: The shift from classical/jazz to pop/rock and modern pop highlights the need to prioritise contemporary genres in nominations to align with audience preferences.\n",
    "4. **Collaborative Projects**: The high nomination count for \"Various Artists\" suggests that collaborative or compilation albums resonate strongly, and the Grammys could promote such projects to boost engagement.\n",
    "5. **Historical Recognition**: Recognising artists like Ella Fitzgerald and Henry Mancini in historical contexts can appeal to older audiences, balancing the focus on modern artists.\n",
    "\n",
    "#### **Conclusion**\n",
    "This analysis of 3,191 Grammy Awards entries reveals a steady growth in nominations from the 1950s to the 2010s, peaking at over 1,200 in the 2010s following a category reorganisation in 2011–2012. \"Various Artists\" leads overall nominations, while artists like Henry Mancini, Stevie Wonder, and Adele dominate specific decades, reflecting shifts in musical influence from jazz/classical to pop/rock and modern pop. These insights guide award show strategies, artist promotion, and genre focus, highlighting the evolving landscape of the Grammy Awards."
   ]
  }
 ],
 "metadata": {
  "kernelspec": {
   "display_name": ".venv",
   "language": "python",
   "name": "python3"
  },
  "language_info": {
   "codemirror_mode": {
    "name": "ipython",
    "version": 3
   },
   "file_extension": ".py",
   "mimetype": "text/x-python",
   "name": "python",
   "nbconvert_exporter": "python",
   "pygments_lexer": "ipython3",
   "version": "3.13.1"
  }
 },
 "nbformat": 4,
 "nbformat_minor": 2
}
